{
  "nbformat": 4,
  "nbformat_minor": 0,
  "metadata": {
    "colab": {
      "provenance": []
    },
    "kernelspec": {
      "name": "python3",
      "display_name": "Python 3"
    },
    "language_info": {
      "name": "python"
    }
  },
  "cells": [
    {
      "cell_type": "code",
      "execution_count": 1,
      "metadata": {
        "colab": {
          "base_uri": "https://localhost:8080/"
        },
        "id": "9TDj9__Wjwch",
        "outputId": "cebcda92-938d-4599-e17d-8bd617104cdb"
      },
      "outputs": [
        {
          "output_type": "stream",
          "name": "stdout",
          "text": [
            "Archive:  source.zip\n",
            "  inflating: /content/python_stat_sample-master/.gitignore  \n",
            "   creating: /content/python_stat_sample-master/.ipynb_checkpoints/\n",
            "   creating: /content/python_stat_sample-master/animation/\n",
            "   creating: /content/python_stat_sample-master/animation/.ipynb_checkpoints/\n",
            "  inflating: /content/python_stat_sample-master/animation/.ipynb_checkpoints/chap02_anim-checkpoint.ipynb  \n",
            "   creating: /content/python_stat_sample-master/animation/__pycache__/\n",
            "  inflating: /content/python_stat_sample-master/animation/__pycache__/plot_util.cpython-37.pyc  \n",
            "  inflating: /content/python_stat_sample-master/animation/chap02_anim.ipynb  \n",
            "  inflating: /content/python_stat_sample-master/animation/chap03_anim.ipynb  \n",
            "  inflating: /content/python_stat_sample-master/animation/chap04_anim.ipynb  \n",
            "  inflating: /content/python_stat_sample-master/animation/chap06_anim.ipynb  \n",
            "  inflating: /content/python_stat_sample-master/animation/chap08_anim.ipynb  \n",
            "  inflating: /content/python_stat_sample-master/animation/chap09_anim.ipynb  \n",
            " extracting: /content/python_stat_sample-master/animation/None0000000.png  \n",
            "  inflating: /content/python_stat_sample-master/animation/plot_util.py  \n",
            "   creating: /content/python_stat_sample-master/data/\n",
            "   creating: /content/python_stat_sample-master/data/.ipynb_checkpoints/\n",
            "  inflating: /content/python_stat_sample-master/data/.ipynb_checkpoints/Untitled-checkpoint.ipynb  \n",
            "  inflating: /content/python_stat_sample-master/data/ch1_sport_test.csv  \n",
            "  inflating: /content/python_stat_sample-master/data/ch10_access.csv  \n",
            "  inflating: /content/python_stat_sample-master/data/ch10_enquete.csv  \n",
            "  inflating: /content/python_stat_sample-master/data/ch11_ad.csv  \n",
            "  inflating: /content/python_stat_sample-master/data/ch11_potato.csv  \n",
            "  inflating: /content/python_stat_sample-master/data/ch11_training_ind.csv  \n",
            "  inflating: /content/python_stat_sample-master/data/ch11_training_rel.csv  \n",
            "  inflating: /content/python_stat_sample-master/data/ch12_scores_reg.csv  \n",
            "  inflating: /content/python_stat_sample-master/data/ch2_scores_em.csv  \n",
            "  inflating: /content/python_stat_sample-master/data/ch3_anscombe.npy  \n",
            "  inflating: /content/python_stat_sample-master/data/ch4_scores400.csv  \n",
            "  inflating: /content/python_stat_sample-master/data/Untitled.ipynb  \n",
            "  inflating: /content/python_stat_sample-master/LICENSE  \n",
            "   creating: /content/python_stat_sample-master/notebook/\n",
            "   creating: /content/python_stat_sample-master/notebook/.ipynb_checkpoints/\n",
            "  inflating: /content/python_stat_sample-master/notebook/.ipynb_checkpoints/chap01-checkpoint.ipynb  \n",
            "  inflating: /content/python_stat_sample-master/notebook/chap01.ipynb  \n",
            "  inflating: /content/python_stat_sample-master/notebook/chap02.ipynb  \n",
            "  inflating: /content/python_stat_sample-master/notebook/chap03.ipynb  \n",
            "  inflating: /content/python_stat_sample-master/notebook/chap04.ipynb  \n",
            "  inflating: /content/python_stat_sample-master/notebook/chap05.ipynb  \n",
            "  inflating: /content/python_stat_sample-master/notebook/chap06.ipynb  \n",
            "  inflating: /content/python_stat_sample-master/notebook/chap07.ipynb  \n",
            "  inflating: /content/python_stat_sample-master/notebook/chap08.ipynb  \n",
            "  inflating: /content/python_stat_sample-master/notebook/chap09.ipynb  \n",
            "  inflating: /content/python_stat_sample-master/notebook/chap10.ipynb  \n",
            "  inflating: /content/python_stat_sample-master/notebook/chap11.ipynb  \n",
            "  inflating: /content/python_stat_sample-master/notebook/chap12.ipynb  \n",
            "  inflating: /content/python_stat_sample-master/README.md  \n",
            "  inflating: /content/python_stat_sample-master/samplecode.png  \n",
            "   creating: /content/python_stat_sample-master/tutorial/\n",
            "   creating: /content/python_stat_sample-master/tutorial/env_const/\n",
            "   creating: /content/python_stat_sample-master/tutorial/env_const/images/\n",
            "  inflating: /content/python_stat_sample-master/tutorial/env_const/images/notebook1.png  \n",
            "  inflating: /content/python_stat_sample-master/tutorial/env_const/images/notebook2.png  \n",
            "  inflating: /content/python_stat_sample-master/tutorial/env_const/images/notebook3.png  \n",
            "  inflating: /content/python_stat_sample-master/tutorial/env_const/macos.md  \n",
            "  inflating: /content/python_stat_sample-master/tutorial/env_const/ubuntu16.md  \n",
            "  inflating: /content/python_stat_sample-master/tutorial/env_const/windows10.md  \n",
            "  inflating: /content/python_stat_sample-master/tutorial/numpy.ipynb  \n",
            "  inflating: /content/python_stat_sample-master/tutorial/pandas.ipynb  \n",
            "  inflating: /content/python_stat_sample-master/tutorial/python.ipynb  \n",
            "  inflating: /content/python_stat_sample-master/tutorial/test.npy  \n",
            "  inflating: /content/python_stat_sample-master/─┌╛╦╕°└╗ └з╟╤ ╡╡┐Є╕╗.pdf  \n"
          ]
        }
      ],
      "source": [
        "!unzip \"source.zip\" -d \"/content\""
      ]
    },
    {
      "cell_type": "code",
      "source": [
        "import numpy as np\n",
        "import matplotlib.pyplot as plt\n",
        "\n",
        "%precision 3\n",
        "%matplotlib inline"
      ],
      "metadata": {
        "id": "ZFQ43M2tj9tH"
      },
      "execution_count": 2,
      "outputs": []
    },
    {
      "cell_type": "code",
      "source": [
        "x_set=np.array([1,2,3,4,5,6])"
      ],
      "metadata": {
        "id": "UXZAPSpCoHP_"
      },
      "execution_count": 3,
      "outputs": []
    },
    {
      "cell_type": "code",
      "source": [
        "def f(x):\n",
        "  if x in x_set:\n",
        "    return x/21\n",
        "  else:\n",
        "    return 0"
      ],
      "metadata": {
        "id": "Y8gt5ljekPK7"
      },
      "execution_count": 4,
      "outputs": []
    },
    {
      "cell_type": "code",
      "source": [
        "X=[x_set,f]\n",
        "X"
      ],
      "metadata": {
        "colab": {
          "base_uri": "https://localhost:8080/"
        },
        "id": "rU-hoZcgoRuA",
        "outputId": "e6bf444f-4091-4745-e522-fcb227b972c9"
      },
      "execution_count": 5,
      "outputs": [
        {
          "output_type": "execute_result",
          "data": {
            "text/plain": [
              "[array([1, 2, 3, 4, 5, 6]), <function __main__.f(x)>]"
            ]
          },
          "metadata": {},
          "execution_count": 5
        }
      ]
    },
    {
      "cell_type": "code",
      "source": [
        "prob=np.array([f(x_k) for x_k in x_set])\n",
        "dic=dict(zip(x_set,prob))\n",
        "print(dic)"
      ],
      "metadata": {
        "colab": {
          "base_uri": "https://localhost:8080/"
        },
        "id": "sIDdMc3col6u",
        "outputId": "ac48de37-8ee2-4148-d625-21fc543295d7"
      },
      "execution_count": 6,
      "outputs": [
        {
          "output_type": "stream",
          "name": "stdout",
          "text": [
            "{np.int64(1): np.float64(0.047619047619047616), np.int64(2): np.float64(0.09523809523809523), np.int64(3): np.float64(0.14285714285714285), np.int64(4): np.float64(0.19047619047619047), np.int64(5): np.float64(0.23809523809523808), np.int64(6): np.float64(0.2857142857142857)}\n"
          ]
        }
      ]
    },
    {
      "cell_type": "code",
      "source": [
        "fig=plt.figure(figsize=(10,6))\n",
        "ax=fig.add_subplot(111)\n",
        "ax.bar(x_set,prob)\n",
        "ax.set_xlabel(\"value\")\n",
        "ax.set_ylabel(\"probability\")\n",
        "\n",
        "plt.show()"
      ],
      "metadata": {
        "colab": {
          "base_uri": "https://localhost:8080/",
          "height": 547
        },
        "id": "Pz-CqgiIpNiI",
        "outputId": "d5f5faa6-290a-4865-9612-95f134958862"
      },
      "execution_count": 7,
      "outputs": [
        {
          "output_type": "display_data",
          "data": {
            "text/plain": [
              "<Figure size 1000x600 with 1 Axes>"
            ],
            "image/png": "[encoded data removed]"
          },
          "metadata": {}
        }
      ]
    },
    {
      "cell_type": "code",
      "source": [
        "print(np.all(prob>=0))"
      ],
      "metadata": {
        "colab": {
          "base_uri": "https://localhost:8080/"
        },
        "id": "MRwb4LSEqKHV",
        "outputId": "7f8df5ee-898f-438e-d36e-c538b253350b"
      },
      "execution_count": 8,
      "outputs": [
        {
          "output_type": "stream",
          "name": "stdout",
          "text": [
            "True\n"
          ]
        }
      ]
    },
    {
      "cell_type": "code",
      "source": [
        "print(np.sum(prob))"
      ],
      "metadata": {
        "colab": {
          "base_uri": "https://localhost:8080/"
        },
        "id": "q4hgPcDgqOpK",
        "outputId": "ebdef6c1-dfa6-4e19-cb24-5b05c8a0deec"
      },
      "execution_count": 9,
      "outputs": [
        {
          "output_type": "stream",
          "name": "stdout",
          "text": [
            "0.9999999999999999\n"
          ]
        }
      ]
    },
    {
      "cell_type": "code",
      "source": [
        "def F(x):\n",
        "  return np.sum([f(x_k) for x_k in x_set \\\n",
        "                            if x_k <=x])"
      ],
      "metadata": {
        "id": "PpwtpG4BrX-m"
      },
      "execution_count": 10,
      "outputs": []
    },
    {
      "cell_type": "code",
      "source": [
        "print(F(3))"
      ],
      "metadata": {
        "colab": {
          "base_uri": "https://localhost:8080/"
        },
        "id": "-qKQ0FH_sZYp",
        "outputId": "a048a28e-a454-43a6-cdd4-66645f695178"
      },
      "execution_count": 11,
      "outputs": [
        {
          "output_type": "stream",
          "name": "stdout",
          "text": [
            "0.2857142857142857\n"
          ]
        }
      ]
    },
    {
      "cell_type": "code",
      "source": [
        "y_set=np.array([2*x_k +3 for x_k in x_set])\n",
        "prob=np.array([f(x_k) for x_k in x_set])\n",
        "dic=dict(zip(y_set,prob))\n",
        "print(dic)"
      ],
      "metadata": {
        "colab": {
          "base_uri": "https://localhost:8080/"
        },
        "id": "KWr8XjcStQyV",
        "outputId": "a5c1ebbc-d237-4904-e7ae-abc1556fdb59"
      },
      "execution_count": 12,
      "outputs": [
        {
          "output_type": "stream",
          "name": "stdout",
          "text": [
            "{np.int64(5): np.float64(0.047619047619047616), np.int64(7): np.float64(0.09523809523809523), np.int64(9): np.float64(0.14285714285714285), np.int64(11): np.float64(0.19047619047619047), np.int64(13): np.float64(0.23809523809523808), np.int64(15): np.float64(0.2857142857142857)}\n"
          ]
        }
      ]
    },
    {
      "cell_type": "code",
      "source": [
        "print(np.sum([x_k*f(x_k) for x_k in x_set]))"
      ],
      "metadata": {
        "colab": {
          "base_uri": "https://localhost:8080/"
        },
        "id": "o7RI82r2pfoE",
        "outputId": "54706ee9-2f69-4eb9-da1c-5025b5495d35"
      },
      "execution_count": 13,
      "outputs": [
        {
          "output_type": "stream",
          "name": "stdout",
          "text": [
            "4.333333333333333\n"
          ]
        }
      ]
    },
    {
      "cell_type": "code",
      "source": [
        "sample=np.random.choice(x_set,int(1e6),p=prob)\n",
        "print(np.mean(sample))"
      ],
      "metadata": {
        "colab": {
          "base_uri": "https://localhost:8080/"
        },
        "id": "RoVLpA6Jp1j2",
        "outputId": "a5f0a751-0a51-4e42-bd97-c88c37aee33f"
      },
      "execution_count": 14,
      "outputs": [
        {
          "output_type": "stream",
          "name": "stdout",
          "text": [
            "4.333387\n"
          ]
        }
      ]
    },
    {
      "cell_type": "code",
      "source": [
        "def E(X, g=lambda x:x):\n",
        "  x_set, f=X\n",
        "  return np.sum([g(x_k)*f(x_k) for x_k in x_set])"
      ],
      "metadata": {
        "id": "O2NXUjnhqisD"
      },
      "execution_count": 15,
      "outputs": []
    },
    {
      "cell_type": "code",
      "source": [
        "print(E(X))"
      ],
      "metadata": {
        "colab": {
          "base_uri": "https://localhost:8080/"
        },
        "id": "3wU1OdHaqukc",
        "outputId": "093ce152-cdc5-439e-c808-3a3956b54638"
      },
      "execution_count": 16,
      "outputs": [
        {
          "output_type": "stream",
          "name": "stdout",
          "text": [
            "4.333333333333333\n"
          ]
        }
      ]
    },
    {
      "cell_type": "code",
      "source": [
        "print(E(X,g=lambda x:2*x+3))"
      ],
      "metadata": {
        "colab": {
          "base_uri": "https://localhost:8080/"
        },
        "id": "srlDafBsq30H",
        "outputId": "89e09ffc-ef8e-4ca5-efeb-3d591d27dd7e"
      },
      "execution_count": 17,
      "outputs": [
        {
          "output_type": "stream",
          "name": "stdout",
          "text": [
            "11.666666666666664\n"
          ]
        }
      ]
    },
    {
      "cell_type": "code",
      "source": [
        "print(2*E(X)+3)"
      ],
      "metadata": {
        "colab": {
          "base_uri": "https://localhost:8080/"
        },
        "id": "RFqoa0u1rCx6",
        "outputId": "541c6e35-8b1f-4b25-8913-7279d6beb132"
      },
      "execution_count": 18,
      "outputs": [
        {
          "output_type": "stream",
          "name": "stdout",
          "text": [
            "11.666666666666666\n"
          ]
        }
      ]
    },
    {
      "cell_type": "code",
      "source": [
        "mean=E(X)\n",
        "print(np.sum([(x_k-mean)**2 *f(x_k) for x_k in x_set]))"
      ],
      "metadata": {
        "colab": {
          "base_uri": "https://localhost:8080/"
        },
        "id": "oP4yBoDDrjwP",
        "outputId": "c216b352-4934-4ea8-ad44-83c1f1627f4a"
      },
      "execution_count": 19,
      "outputs": [
        {
          "output_type": "stream",
          "name": "stdout",
          "text": [
            "2.2222222222222223\n"
          ]
        }
      ]
    },
    {
      "cell_type": "code",
      "source": [
        "mean=E(X)\n",
        "print(np.sum([(x_k-mean)**2*f(x_k) for x_k in x_set]))"
      ],
      "metadata": {
        "colab": {
          "base_uri": "https://localhost:8080/"
        },
        "id": "bC2g9MBxu7jR",
        "outputId": "4c240f59-743b-453e-8885-9150f2e6174b"
      },
      "execution_count": 20,
      "outputs": [
        {
          "output_type": "stream",
          "name": "stdout",
          "text": [
            "2.2222222222222223\n"
          ]
        }
      ]
    },
    {
      "cell_type": "code",
      "source": [
        "def V(X, g=lambda x:x):\n",
        "  x_set, f=X\n",
        "  mean=E(X,g)\n",
        "  return np.sum([(g(x_k)-mean)**2*f(x_k) for x_k in x_set])"
      ],
      "metadata": {
        "id": "OBtETP56w4FL"
      },
      "execution_count": 59,
      "outputs": []
    },
    {
      "cell_type": "code",
      "source": [
        "print(V(X))"
      ],
      "metadata": {
        "colab": {
          "base_uri": "https://localhost:8080/"
        },
        "id": "vCIBmnquxGTJ",
        "outputId": "3e6fbf58-f131-4e6d-e0e3-f72e06e6bd8e"
      },
      "execution_count": 22,
      "outputs": [
        {
          "output_type": "stream",
          "name": "stdout",
          "text": [
            "2.2222222222222223\n"
          ]
        }
      ]
    },
    {
      "cell_type": "code",
      "source": [
        "print(V(X,lambda x: 2*x+3))"
      ],
      "metadata": {
        "colab": {
          "base_uri": "https://localhost:8080/"
        },
        "id": "pK1S08yrxLMX",
        "outputId": "bc69a175-0d9b-47ac-f30a-9a3366ddc9e3"
      },
      "execution_count": 23,
      "outputs": [
        {
          "output_type": "stream",
          "name": "stdout",
          "text": [
            "8.88888888888889\n"
          ]
        }
      ]
    },
    {
      "cell_type": "code",
      "source": [
        "2**2*V(X)"
      ],
      "metadata": {
        "id": "edn-AR6AxV8w",
        "outputId": "40e7ab92-1e5d-4b1a-f294-76e8fd9cee75",
        "colab": {
          "base_uri": "https://localhost:8080/"
        }
      },
      "execution_count": 24,
      "outputs": [
        {
          "output_type": "execute_result",
          "data": {
            "text/plain": [
              "np.float64(8.88888888888889)"
            ]
          },
          "metadata": {},
          "execution_count": 24
        }
      ]
    },
    {
      "cell_type": "code",
      "source": [
        "x_set=np.arange(2,13)\n",
        "y_set=np.arange(1,7)"
      ],
      "metadata": {
        "id": "Q08Uo7zwwuQz"
      },
      "execution_count": 25,
      "outputs": []
    },
    {
      "cell_type": "code",
      "source": [
        "def f_XY(x,y):\n",
        "  if 1<=y <=6 and 1<=x-y<=6:\n",
        "    return y*(x-y)/441\n",
        "  else:\n",
        "    return 0"
      ],
      "metadata": {
        "id": "gULnQvPcw2Yb"
      },
      "execution_count": 26,
      "outputs": []
    },
    {
      "cell_type": "code",
      "source": [
        "XY=[x_set,y_set,f_XY]"
      ],
      "metadata": {
        "id": "ivY1ch7txK-D"
      },
      "execution_count": 27,
      "outputs": []
    },
    {
      "cell_type": "code",
      "source": [
        "prob=np.array([[f_XY(x_i,y_j) for y_j in y_set] for x_i in x_set])\n",
        "fig =plt.figure(figsize=(10,8))\n",
        "ax=fig.add_subplot(111)\n",
        "\n",
        "c=ax.pcolor(prob)\n",
        "ax.set_xticks(np.arange(prob.shape[1])+0.5, minor=False)\n",
        "ax.set_yticks(np.arange(prob.shape[0])+0.5,minor=False)\n",
        "ax.set_xticklabels(np.arange(1,7),minor=False)\n",
        "ax.set_yticklabels(np.arange(2,13),minor=False)\n",
        "ax.invert_yaxis()\n",
        "ax.xaxis.tick_top()\n",
        "fig.colorbar(c,ax=ax)\n",
        "plt.show()"
      ],
      "metadata": {
        "colab": {
          "base_uri": "https://localhost:8080/",
          "height": 685
        },
        "id": "HzUZWxMExO1V",
        "outputId": "58d64d07-0b35-4d5e-9ff0-8917b92a0de9"
      },
      "execution_count": 29,
      "outputs": [
        {
          "output_type": "display_data",
          "data": {
            "text/plain": [
              "<Figure size 1000x800 with 2 Axes>"
            ],
            "image/png": "[encoded data removed]"
          },
          "metadata": {}
        }
      ]
    },
    {
      "cell_type": "code",
      "source": [
        "print(np.all(prob>=0))"
      ],
      "metadata": {
        "colab": {
          "base_uri": "https://localhost:8080/"
        },
        "id": "r2Ew2w-myTav",
        "outputId": "965a1313-cfbc-45b9-8c10-322624ab218e"
      },
      "execution_count": 31,
      "outputs": [
        {
          "output_type": "stream",
          "name": "stdout",
          "text": [
            "True\n"
          ]
        }
      ]
    },
    {
      "cell_type": "code",
      "source": [
        "print(np.sum(prob))"
      ],
      "metadata": {
        "colab": {
          "base_uri": "https://localhost:8080/"
        },
        "id": "2iq3CSxXyYg3",
        "outputId": "b2b46f2c-464e-4c13-dd88-2278fa036f88"
      },
      "execution_count": 32,
      "outputs": [
        {
          "output_type": "stream",
          "name": "stdout",
          "text": [
            "1.0\n"
          ]
        }
      ]
    },
    {
      "cell_type": "code",
      "source": [
        "def f_X(x):\n",
        "  return np.sum([f_XY(x,y_k) for y_k in y_set])"
      ],
      "metadata": {
        "id": "HGWHn6CZ0whe"
      },
      "execution_count": 33,
      "outputs": []
    },
    {
      "cell_type": "code",
      "source": [
        "def f_Y(y):\n",
        "  return np.sum([f_XY(x_k,y) for x_k in x_set])"
      ],
      "metadata": {
        "id": "KIuqtIin03mJ"
      },
      "execution_count": 34,
      "outputs": []
    },
    {
      "cell_type": "code",
      "source": [
        "X=[x_set,f_X]\n",
        "y=[y_set,f_Y]"
      ],
      "metadata": {
        "id": "7Q5ww-PY09ce"
      },
      "execution_count": 35,
      "outputs": []
    },
    {
      "cell_type": "code",
      "source": [
        "prob_x=np.array([f_X(x_k) for x_k in x_set])\n",
        "prob_y=np.array([f_Y(y_k) for y_k in y_set])\n",
        "\n",
        "fig=plt.figure(figsize=(12,4))\n",
        "ax1=fig.add_subplot(121)\n",
        "ax2=fig.add_subplot(122)\n",
        "\n",
        "ax1.bar(x_set,prob_x)\n",
        "ax1.set_title(\"X_marginal probability distribution\")\n",
        "ax1.set_xlabel(\"X_value\")\n",
        "ax1.set_ylabel(\"probability\")\n",
        "ax1.set_xticks(x_set)\n",
        "\n",
        "ax2.bar(y_set,prob_y)\n",
        "ax2.set_title(\"Y_marginal probability distribution\")\n",
        "ax2.set_xlabel(\"Y_value\")\n",
        "ax2.set_ylabel(\"probability\")\n",
        "\n",
        "plt.show()"
      ],
      "metadata": {
        "colab": {
          "base_uri": "https://localhost:8080/",
          "height": 410
        },
        "id": "Nfw7SNar1FX0",
        "outputId": "cb7ad5b3-1ead-4ad0-d476-1fc56acf1251"
      },
      "execution_count": 36,
      "outputs": [
        {
          "output_type": "display_data",
          "data": {
            "text/plain": [
              "<Figure size 1200x400 with 2 Axes>"
            ],
            "image/png": "[encoded data removed]"
          },
          "metadata": {}
        }
      ]
    },
    {
      "cell_type": "code",
      "source": [
        "print(np.sum([x_i*f_XY(x_i,y_j) for x_i in x_set for y_j in y_set]))"
      ],
      "metadata": {
        "colab": {
          "base_uri": "https://localhost:8080/"
        },
        "id": "t_R9xHws2C5E",
        "outputId": "13c2d99c-a4a6-4baa-9998-14112a1c0ff4"
      },
      "execution_count": 38,
      "outputs": [
        {
          "output_type": "stream",
          "name": "stdout",
          "text": [
            "8.666666666666666\n"
          ]
        }
      ]
    },
    {
      "cell_type": "code",
      "source": [
        "def E(XY,g):\n",
        "  x_set,y_set,f_XY=XY\n",
        "  return np.sum([g(x_i,y_j)*f_XY(x_i,y_j) for x_i in x_set for y_j in y_set])"
      ],
      "metadata": {
        "id": "UKVXwR_l2Ovg"
      },
      "execution_count": 39,
      "outputs": []
    },
    {
      "cell_type": "code",
      "source": [
        "mean_X=E(XY, lambda x, y:x)\n",
        "print(mean_X)"
      ],
      "metadata": {
        "colab": {
          "base_uri": "https://localhost:8080/"
        },
        "id": "JTujx46n2iSC",
        "outputId": "787d4b52-2363-4dbf-d3ef-a6e5ed1bed83"
      },
      "execution_count": 41,
      "outputs": [
        {
          "output_type": "stream",
          "name": "stdout",
          "text": [
            "8.666666666666666\n"
          ]
        }
      ]
    },
    {
      "cell_type": "code",
      "source": [
        "mean_Y=E(XY,lambda x, y:y)\n",
        "print(mean_Y)"
      ],
      "metadata": {
        "colab": {
          "base_uri": "https://localhost:8080/"
        },
        "id": "io6Oc1mC2tTQ",
        "outputId": "7a44afe3-6689-4f45-affe-50b7fb904ba0"
      },
      "execution_count": 42,
      "outputs": [
        {
          "output_type": "stream",
          "name": "stdout",
          "text": [
            "4.333333333333333\n"
          ]
        }
      ]
    },
    {
      "cell_type": "code",
      "source": [
        "a,b=2,3"
      ],
      "metadata": {
        "id": "tJtZz-iI3fVn"
      },
      "execution_count": 43,
      "outputs": []
    },
    {
      "cell_type": "code",
      "source": [
        "print(E(XY,lambda x,y:a*x+b*y))"
      ],
      "metadata": {
        "colab": {
          "base_uri": "https://localhost:8080/"
        },
        "id": "nZbFG3QR3lnQ",
        "outputId": "ee748608-ac6e-4208-c776-8ae153134552"
      },
      "execution_count": 45,
      "outputs": [
        {
          "output_type": "stream",
          "name": "stdout",
          "text": [
            "30.333333333333332\n"
          ]
        }
      ]
    },
    {
      "cell_type": "code",
      "source": [
        "print(a*mean_X+b*mean_Y)"
      ],
      "metadata": {
        "colab": {
          "base_uri": "https://localhost:8080/"
        },
        "id": "nbeRiwDR3rmK",
        "outputId": "8d317841-f16f-4616-a4f6-c0981d8d22f4"
      },
      "execution_count": 47,
      "outputs": [
        {
          "output_type": "stream",
          "name": "stdout",
          "text": [
            "30.333333333333332\n"
          ]
        }
      ]
    },
    {
      "cell_type": "code",
      "source": [
        "print(np.sum([(x_i-mean_X)**2*f_XY(x_i,y_j)for x_i in x_set for y_j in y_set]))"
      ],
      "metadata": {
        "colab": {
          "base_uri": "https://localhost:8080/"
        },
        "id": "zulpr7AA32SB",
        "outputId": "037872dd-bf17-4f3d-cf08-ab8f7fe8891e"
      },
      "execution_count": 50,
      "outputs": [
        {
          "output_type": "stream",
          "name": "stdout",
          "text": [
            "4.444444444444444\n"
          ]
        }
      ]
    },
    {
      "cell_type": "code",
      "source": [
        "def V(XY,g):\n",
        "  x_set,y_set,f_XY=XY\n",
        "  mean=E(XY,g)\n",
        "  return np.sum([(g(x_i,y_j)-mean)**2 *f_XY(x_i,y_j) for x_i in x_set for y_j in y_set])"
      ],
      "metadata": {
        "id": "IrEHu8IC4F54"
      },
      "execution_count": 63,
      "outputs": []
    },
    {
      "cell_type": "code",
      "source": [
        "var_X=V(XY,g=lambda x, y:x)\n",
        "print(var_X)"
      ],
      "metadata": {
        "colab": {
          "base_uri": "https://localhost:8080/"
        },
        "id": "fMA7mWj84Z2K",
        "outputId": "db6027fc-017b-451c-e3ea-0665dcb79adc"
      },
      "execution_count": 64,
      "outputs": [
        {
          "output_type": "stream",
          "name": "stdout",
          "text": [
            "4.444444444444444\n"
          ]
        }
      ]
    },
    {
      "cell_type": "code",
      "source": [
        "var_Y=V(XY,g=lambda x,y:y)\n",
        "print(var_Y)"
      ],
      "metadata": {
        "colab": {
          "base_uri": "https://localhost:8080/"
        },
        "id": "6CWiq25N6HRj",
        "outputId": "d2e05e54-71a6-4d0c-d09e-34891ffe3285"
      },
      "execution_count": 65,
      "outputs": [
        {
          "output_type": "stream",
          "name": "stdout",
          "text": [
            "2.2222222222222223\n"
          ]
        }
      ]
    },
    {
      "cell_type": "code",
      "source": [
        "def Cov(XY):\n",
        "  x_set,y_set,f_XY=XY\n",
        "  mean_X=E(XY,lambda x, y:x)\n",
        "  mean_Y=E(XY, lambda x, y:y)\n",
        "  return np.sum([(x_i-mean_X)*(y_j-mean_Y)*f_XY(x_i,y_j) for x_i in x_set for y_j in y_set])"
      ],
      "metadata": {
        "id": "K4N6R2aQ65AX"
      },
      "execution_count": 66,
      "outputs": []
    },
    {
      "cell_type": "code",
      "source": [
        "cov_xy=Cov(XY)\n",
        "print(cov_xy)"
      ],
      "metadata": {
        "colab": {
          "base_uri": "https://localhost:8080/"
        },
        "id": "lKbRovIW7a5j",
        "outputId": "961a9c1a-98e3-40fc-eb4b-19c35eb9eecb"
      },
      "execution_count": 68,
      "outputs": [
        {
          "output_type": "stream",
          "name": "stdout",
          "text": [
            "2.222222222222222\n"
          ]
        }
      ]
    },
    {
      "cell_type": "code",
      "source": [
        "print(V(XY, lambda x,y:a*x + b*y))"
      ],
      "metadata": {
        "colab": {
          "base_uri": "https://localhost:8080/"
        },
        "id": "BpzN5eCl7p4-",
        "outputId": "23b5b203-9fe1-481c-cb0e-30127660cdae"
      },
      "execution_count": 70,
      "outputs": [
        {
          "output_type": "stream",
          "name": "stdout",
          "text": [
            "64.44444444444444\n"
          ]
        }
      ]
    },
    {
      "cell_type": "code",
      "source": [
        "print(a**2 * var_X+b**2*var_Y+2*a*b*cov_xy)"
      ],
      "metadata": {
        "colab": {
          "base_uri": "https://localhost:8080/"
        },
        "id": "XyGIz2jm7w1Y",
        "outputId": "0a6178fa-affc-4563-877a-6bd93823f118"
      },
      "execution_count": 72,
      "outputs": [
        {
          "output_type": "stream",
          "name": "stdout",
          "text": [
            "64.44444444444443\n"
          ]
        }
      ]
    },
    {
      "cell_type": "code",
      "source": [
        "print(cov_xy/np.sqrt(var_X*var_Y))\n"
      ],
      "metadata": {
        "colab": {
          "base_uri": "https://localhost:8080/"
        },
        "id": "-MxBdXpC7_du",
        "outputId": "26d31ef7-d050-46be-ac49-e9e7f1d6fd22"
      },
      "execution_count": 74,
      "outputs": [
        {
          "output_type": "stream",
          "name": "stdout",
          "text": [
            "0.7071067811865474\n"
          ]
        }
      ]
    }
  ]
}