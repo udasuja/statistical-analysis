{
  "nbformat": 4,
  "nbformat_minor": 0,
  "metadata": {
    "colab": {
      "provenance": []
    },
    "kernelspec": {
      "name": "python3",
      "display_name": "Python 3"
    },
    "language_info": {
      "name": "python"
    }
  },
  "cells": [
    {
      "cell_type": "code",
      "source": [
        "!unzip 'source.zip' -d '/content'"
      ],
      "metadata": {
        "colab": {
          "base_uri": "https://localhost:8080/"
        },
        "id": "mNKjNmYtKpGR",
        "outputId": "3669ae50-53a5-400b-cfe0-ac3901e1cd3e"
      },
      "execution_count": 1,
      "outputs": [
        {
          "output_type": "stream",
          "name": "stdout",
          "text": [
            "Archive:  source.zip\n",
            "  inflating: /content/python_stat_sample-master/.gitignore  \n",
            "   creating: /content/python_stat_sample-master/.ipynb_checkpoints/\n",
            "   creating: /content/python_stat_sample-master/animation/\n",
            "   creating: /content/python_stat_sample-master/animation/.ipynb_checkpoints/\n",
            "  inflating: /content/python_stat_sample-master/animation/.ipynb_checkpoints/chap02_anim-checkpoint.ipynb  \n",
            "   creating: /content/python_stat_sample-master/animation/__pycache__/\n",
            "  inflating: /content/python_stat_sample-master/animation/__pycache__/plot_util.cpython-37.pyc  \n",
            "  inflating: /content/python_stat_sample-master/animation/chap02_anim.ipynb  \n",
            "  inflating: /content/python_stat_sample-master/animation/chap03_anim.ipynb  \n",
            "  inflating: /content/python_stat_sample-master/animation/chap04_anim.ipynb  \n",
            "  inflating: /content/python_stat_sample-master/animation/chap06_anim.ipynb  \n",
            "  inflating: /content/python_stat_sample-master/animation/chap08_anim.ipynb  \n",
            "  inflating: /content/python_stat_sample-master/animation/chap09_anim.ipynb  \n",
            " extracting: /content/python_stat_sample-master/animation/None0000000.png  \n",
            "  inflating: /content/python_stat_sample-master/animation/plot_util.py  \n",
            "   creating: /content/python_stat_sample-master/data/\n",
            "   creating: /content/python_stat_sample-master/data/.ipynb_checkpoints/\n",
            "  inflating: /content/python_stat_sample-master/data/.ipynb_checkpoints/Untitled-checkpoint.ipynb  \n",
            "  inflating: /content/python_stat_sample-master/data/ch1_sport_test.csv  \n",
            "  inflating: /content/python_stat_sample-master/data/ch10_access.csv  \n",
            "  inflating: /content/python_stat_sample-master/data/ch10_enquete.csv  \n",
            "  inflating: /content/python_stat_sample-master/data/ch11_ad.csv  \n",
            "  inflating: /content/python_stat_sample-master/data/ch11_potato.csv  \n",
            "  inflating: /content/python_stat_sample-master/data/ch11_training_ind.csv  \n",
            "  inflating: /content/python_stat_sample-master/data/ch11_training_rel.csv  \n",
            "  inflating: /content/python_stat_sample-master/data/ch12_scores_reg.csv  \n",
            "  inflating: /content/python_stat_sample-master/data/ch2_scores_em.csv  \n",
            "  inflating: /content/python_stat_sample-master/data/ch3_anscombe.npy  \n",
            "  inflating: /content/python_stat_sample-master/data/ch4_scores400.csv  \n",
            "  inflating: /content/python_stat_sample-master/data/Untitled.ipynb  \n",
            "  inflating: /content/python_stat_sample-master/LICENSE  \n",
            "   creating: /content/python_stat_sample-master/notebook/\n",
            "   creating: /content/python_stat_sample-master/notebook/.ipynb_checkpoints/\n",
            "  inflating: /content/python_stat_sample-master/notebook/.ipynb_checkpoints/chap01-checkpoint.ipynb  \n",
            "  inflating: /content/python_stat_sample-master/notebook/chap01.ipynb  \n",
            "  inflating: /content/python_stat_sample-master/notebook/chap02.ipynb  \n",
            "  inflating: /content/python_stat_sample-master/notebook/chap03.ipynb  \n",
            "  inflating: /content/python_stat_sample-master/notebook/chap04.ipynb  \n",
            "  inflating: /content/python_stat_sample-master/notebook/chap05.ipynb  \n",
            "  inflating: /content/python_stat_sample-master/notebook/chap06.ipynb  \n",
            "  inflating: /content/python_stat_sample-master/notebook/chap07.ipynb  \n",
            "  inflating: /content/python_stat_sample-master/notebook/chap08.ipynb  \n",
            "  inflating: /content/python_stat_sample-master/notebook/chap09.ipynb  \n",
            "  inflating: /content/python_stat_sample-master/notebook/chap10.ipynb  \n",
            "  inflating: /content/python_stat_sample-master/notebook/chap11.ipynb  \n",
            "  inflating: /content/python_stat_sample-master/notebook/chap12.ipynb  \n",
            "  inflating: /content/python_stat_sample-master/README.md  \n",
            "  inflating: /content/python_stat_sample-master/samplecode.png  \n",
            "   creating: /content/python_stat_sample-master/tutorial/\n",
            "   creating: /content/python_stat_sample-master/tutorial/env_const/\n",
            "   creating: /content/python_stat_sample-master/tutorial/env_const/images/\n",
            "  inflating: /content/python_stat_sample-master/tutorial/env_const/images/notebook1.png  \n",
            "  inflating: /content/python_stat_sample-master/tutorial/env_const/images/notebook2.png  \n",
            "  inflating: /content/python_stat_sample-master/tutorial/env_const/images/notebook3.png  \n",
            "  inflating: /content/python_stat_sample-master/tutorial/env_const/macos.md  \n",
            "  inflating: /content/python_stat_sample-master/tutorial/env_const/ubuntu16.md  \n",
            "  inflating: /content/python_stat_sample-master/tutorial/env_const/windows10.md  \n",
            "  inflating: /content/python_stat_sample-master/tutorial/numpy.ipynb  \n",
            "  inflating: /content/python_stat_sample-master/tutorial/pandas.ipynb  \n",
            "  inflating: /content/python_stat_sample-master/tutorial/python.ipynb  \n",
            "  inflating: /content/python_stat_sample-master/tutorial/test.npy  \n",
            "  inflating: /content/python_stat_sample-master/─┌╛╦╕°└╗ └з╟╤ ╡╡┐Є╕╗.pdf  \n"
          ]
        }
      ]
    },
    {
      "cell_type": "code",
      "execution_count": 2,
      "metadata": {
        "id": "MW1HrJ0UKHD5"
      },
      "outputs": [],
      "source": [
        "import numpy as np\n",
        "import pandas as pd\n",
        "import matplotlib.pyplot as plt\n",
        "\n",
        "%precision 3\n",
        "%matplotlib inline"
      ]
    },
    {
      "cell_type": "code",
      "source": [
        "df=pd.read_csv(\"/content/python_stat_sample-master/data/ch4_scores400.csv\")\n",
        "scores=np.array(df['score'])\n",
        "scores[:10]"
      ],
      "metadata": {
        "colab": {
          "base_uri": "https://localhost:8080/"
        },
        "id": "Z17orlT8Kocl",
        "outputId": "cd3ab258-8731-476b-d838-e722c301a43b"
      },
      "execution_count": 5,
      "outputs": [
        {
          "output_type": "execute_result",
          "data": {
            "text/plain": [
              "array([76, 55, 80, 80, 74, 61, 81, 76, 23, 80])"
            ]
          },
          "metadata": {},
          "execution_count": 5
        }
      ]
    },
    {
      "cell_type": "code",
      "source": [
        "print(np.random.choice([1,2,3],3))\n",
        "print(np.random.choice([1,2,3],3))\n",
        "print(np.random.choice([1,2,3],3))\n",
        "print(np.random.choice([1,2,3],3))\n"
      ],
      "metadata": {
        "colab": {
          "base_uri": "https://localhost:8080/"
        },
        "id": "RMydYP1cO9Ug",
        "outputId": "44fd804e-d4d8-4016-b6d1-c1ebb0f00b1a"
      },
      "execution_count": 15,
      "outputs": [
        {
          "output_type": "stream",
          "name": "stdout",
          "text": [
            "[3 3 2]\n",
            "[3 3 3]\n",
            "[2 3 2]\n",
            "[2 3 3]\n"
          ]
        }
      ]
    },
    {
      "cell_type": "code",
      "source": [
        "print(np.random.choice([1,2,3],3,replace=False))\n",
        "print(np.random.choice([1,2,3],3,replace=False))\n",
        "print(np.random.choice([1,2,3],3,replace=False))"
      ],
      "metadata": {
        "colab": {
          "base_uri": "https://localhost:8080/"
        },
        "id": "aUFjh1cTPKM5",
        "outputId": "d01817f1-0e12-4063-b2f1-7ab6b5ae63d9"
      },
      "execution_count": 14,
      "outputs": [
        {
          "output_type": "stream",
          "name": "stdout",
          "text": [
            "[2 1 3]\n",
            "[2 1 3]\n",
            "[1 3 2]\n"
          ]
        }
      ]
    },
    {
      "cell_type": "code",
      "source": [
        "np.random.seed(0)\n",
        "print(np.random.choice([1,2,3],3))\n",
        "print(np.random.choice([1,2,3],3))\n",
        "print(np.random.choice([1,2,3],3))\n",
        "print(np.random.choice([1,2,3],3))"
      ],
      "metadata": {
        "colab": {
          "base_uri": "https://localhost:8080/"
        },
        "id": "ldbzZa89Pnze",
        "outputId": "a5ad9c62-33d9-4bf3-922c-88ea36cc8beb"
      },
      "execution_count": 18,
      "outputs": [
        {
          "output_type": "stream",
          "name": "stdout",
          "text": [
            "[1 2 1]\n",
            "[2 2 3]\n",
            "[1 3 1]\n",
            "[1 1 3]\n"
          ]
        }
      ]
    },
    {
      "cell_type": "code",
      "source": [
        "np.random.seed(0)\n",
        "print(np.random.choice([1,2,3],3))\n",
        "print(np.random.choice([1,2,3],3))\n",
        "print(np.random.choice([1,2,3],3))\n",
        "print(np.random.choice([1,2,3],3))"
      ],
      "metadata": {
        "colab": {
          "base_uri": "https://localhost:8080/"
        },
        "id": "527FyhcOP0n6",
        "outputId": "643a6012-2892-4580-a319-d332c29270c2"
      },
      "execution_count": 19,
      "outputs": [
        {
          "output_type": "stream",
          "name": "stdout",
          "text": [
            "[1 2 1]\n",
            "[2 2 3]\n",
            "[1 3 1]\n",
            "[1 1 3]\n"
          ]
        }
      ]
    },
    {
      "cell_type": "code",
      "source": [
        "np.random.seed(0)\n",
        "sample=np.random.choice(scores,20)\n",
        "print(\"표본평균: {}\".format(sample.mean()))\n",
        "print(\"모평균: {}\".format(scores.mean()))"
      ],
      "metadata": {
        "colab": {
          "base_uri": "https://localhost:8080/"
        },
        "id": "FOtt7IPFQC2y",
        "outputId": "afd0e1af-7d64-46d2-be40-e64bc08abde9"
      },
      "execution_count": 31,
      "outputs": [
        {
          "output_type": "stream",
          "name": "stdout",
          "text": [
            "표본평균: 70.4\n",
            "모평균: 69.53\n"
          ]
        }
      ]
    },
    {
      "cell_type": "code",
      "source": [
        "for i in range(5):\n",
        "  sample=np.random.choice(scores,20)\n",
        "  print(f\"{i+1}번째 무작위추출로 얻은 표본평균\",sample.mean())"
      ],
      "metadata": {
        "colab": {
          "base_uri": "https://localhost:8080/"
        },
        "id": "0dwwP0i4QST9",
        "outputId": "a5cb6b12-31dc-40c2-d3b3-df1d3b8ba364"
      },
      "execution_count": 32,
      "outputs": [
        {
          "output_type": "stream",
          "name": "stdout",
          "text": [
            "1번째 무작위추출로 얻은 표본평균 72.45\n",
            "2번째 무작위추출로 얻은 표본평균 63.7\n",
            "3번째 무작위추출로 얻은 표본평균 66.05\n",
            "4번째 무작위추출로 얻은 표본평균 71.7\n",
            "5번째 무작위추출로 얻은 표본평균 74.15\n"
          ]
        }
      ]
    },
    {
      "cell_type": "code",
      "source": [
        "dice=[1,2,3,4,5,6]\n",
        "prob=[1/21,2/21,3/21,4/21,5/21,6/21]"
      ],
      "metadata": {
        "id": "tvpAhOmgW1Sj"
      },
      "execution_count": 33,
      "outputs": []
    },
    {
      "cell_type": "code",
      "source": [
        "print(np.random.choice(dice,p=prob))"
      ],
      "metadata": {
        "colab": {
          "base_uri": "https://localhost:8080/"
        },
        "id": "o85V7gKHXatB",
        "outputId": "fb1e2b31-89c4-46eb-be1c-41691087482e"
      },
      "execution_count": 47,
      "outputs": [
        {
          "output_type": "stream",
          "name": "stdout",
          "text": [
            "6\n"
          ]
        }
      ]
    },
    {
      "cell_type": "code",
      "source": [
        "num_trial=100\n",
        "sample=np.random.choice(dice,num_trial,p=prob)\n",
        "sample"
      ],
      "metadata": {
        "colab": {
          "base_uri": "https://localhost:8080/"
        },
        "id": "RUvklYEUXltd",
        "outputId": "fe4b9ff2-5b8e-4363-a42a-5af0b35f47dc"
      },
      "execution_count": 49,
      "outputs": [
        {
          "output_type": "execute_result",
          "data": {
            "text/plain": [
              "array([6, 5, 3, 3, 3, 5, 4, 6, 5, 2, 2, 5, 6, 6, 5, 5, 6, 6, 5, 5, 5, 6,\n",
              "       4, 4, 6, 2, 3, 6, 6, 5, 4, 5, 1, 4, 4, 6, 5, 4, 5, 6, 3, 6, 4, 6,\n",
              "       4, 5, 3, 6, 5, 3, 3, 6, 6, 5, 3, 3, 5, 4, 6, 3, 3, 2, 6, 1, 6, 2,\n",
              "       3, 6, 6, 1, 3, 4, 5, 2, 5, 1, 6, 6, 5, 3, 5, 5, 6, 5, 3, 4, 6, 5,\n",
              "       6, 5, 5, 5, 6, 3, 6, 6, 6, 6, 6, 6])"
            ]
          },
          "metadata": {},
          "execution_count": 49
        }
      ]
    },
    {
      "cell_type": "code",
      "source": [
        "freq,_=np.histogram(sample,bins=6,range=(1,7))\n",
        "pd.DataFrame({'frequency':freq,\n",
        "              'relative frequency':freq/num_trial},\n",
        "             index=pd.Index(np.arange(1,7),name='dice'))"
      ],
      "metadata": {
        "colab": {
          "base_uri": "https://localhost:8080/",
          "height": 269
        },
        "id": "50zbCkIXX1kK",
        "outputId": "25edd1e0-bbcd-4616-95c5-b4dfb0b4c7c4"
      },
      "execution_count": 50,
      "outputs": [
        {
          "output_type": "execute_result",
          "data": {
            "text/plain": [
              "      frequency  relative frequency\n",
              "dice                               \n",
              "1             4                0.04\n",
              "2             6                0.06\n",
              "3            17                0.17\n",
              "4            12                0.12\n",
              "5            27                0.27\n",
              "6            34                0.34"
            ],
            "text/html": [
              "\n",
              "  <div id=\"df-139b8c79-680e-4c49-b8cd-9a3cfde10777\" class=\"colab-df-container\">\n",
              "    <div>\n",
              "<style scoped>\n",
              "    .dataframe tbody tr th:only-of-type {\n",
              "        vertical-align: middle;\n",
              "    }\n",
              "\n",
              "    .dataframe tbody tr th {\n",
              "        vertical-align: top;\n",
              "    }\n",
              "\n",
              "    .dataframe thead th {\n",
              "        text-align: right;\n",
              "    }\n",
              "</style>\n",
              "<table border=\"1\" class=\"dataframe\">\n",
              "  <thead>\n",
              "    <tr style=\"text-align: right;\">\n",
              "      <th></th>\n",
              "      <th>frequency</th>\n",
              "      <th>relative frequency</th>\n",
              "    </tr>\n",
              "    <tr>\n",
              "      <th>dice</th>\n",
              "      <th></th>\n",
              "      <th></th>\n",
              "    </tr>\n",
              "  </thead>\n",
              "  <tbody>\n",
              "    <tr>\n",
              "      <th>1</th>\n",
              "      <td>4</td>\n",
              "      <td>0.04</td>\n",
              "    </tr>\n",
              "    <tr>\n",
              "      <th>2</th>\n",
              "      <td>6</td>\n",
              "      <td>0.06</td>\n",
              "    </tr>\n",
              "    <tr>\n",
              "      <th>3</th>\n",
              "      <td>17</td>\n",
              "      <td>0.17</td>\n",
              "    </tr>\n",
              "    <tr>\n",
              "      <th>4</th>\n",
              "      <td>12</td>\n",
              "      <td>0.12</td>\n",
              "    </tr>\n",
              "    <tr>\n",
              "      <th>5</th>\n",
              "      <td>27</td>\n",
              "      <td>0.27</td>\n",
              "    </tr>\n",
              "    <tr>\n",
              "      <th>6</th>\n",
              "      <td>34</td>\n",
              "      <td>0.34</td>\n",
              "    </tr>\n",
              "  </tbody>\n",
              "</table>\n",
              "</div>\n",
              "    <div class=\"colab-df-buttons\">\n",
              "\n",
              "  <div class=\"colab-df-container\">\n",
              "    <button class=\"colab-df-convert\" onclick=\"convertToInteractive('df-139b8c79-680e-4c49-b8cd-9a3cfde10777')\"\n",
              "            title=\"Convert this dataframe to an interactive table.\"\n",
              "            style=\"display:none;\">\n",
              "\n",
              "  <svg xmlns=\"http://www.w3.org/2000/svg\" height=\"24px\" viewBox=\"0 -960 960 960\">\n",
              "    <path d=\"M120-120v-720h720v720H120Zm60-500h600v-160H180v160Zm220 220h160v-160H400v160Zm0 220h160v-160H400v160ZM180-400h160v-160H180v160Zm440 0h160v-160H620v160ZM180-180h160v-160H180v160Zm440 0h160v-160H620v160Z\"/>\n",
              "  </svg>\n",
              "    </button>\n",
              "\n",
              "  <style>\n",
              "    .colab-df-container {\n",
              "      display:flex;\n",
              "      gap: 12px;\n",
              "    }\n",
              "\n",
              "    .colab-df-convert {\n",
              "      background-color: #E8F0FE;\n",
              "      border: none;\n",
              "      border-radius: 50%;\n",
              "      cursor: pointer;\n",
              "      display: none;\n",
              "      fill: #1967D2;\n",
              "      height: 32px;\n",
              "      padding: 0 0 0 0;\n",
              "      width: 32px;\n",
              "    }\n",
              "\n",
              "    .colab-df-convert:hover {\n",
              "      background-color: #E2EBFA;\n",
              "      box-shadow: 0px 1px 2px rgba(60, 64, 67, 0.3), 0px 1px 3px 1px rgba(60, 64, 67, 0.15);\n",
              "      fill: #174EA6;\n",
              "    }\n",
              "\n",
              "    .colab-df-buttons div {\n",
              "      margin-bottom: 4px;\n",
              "    }\n",
              "\n",
              "    [theme=dark] .colab-df-convert {\n",
              "      background-color: #3B4455;\n",
              "      fill: #D2E3FC;\n",
              "    }\n",
              "\n",
              "    [theme=dark] .colab-df-convert:hover {\n",
              "      background-color: #434B5C;\n",
              "      box-shadow: 0px 1px 3px 1px rgba(0, 0, 0, 0.15);\n",
              "      filter: drop-shadow(0px 1px 2px rgba(0, 0, 0, 0.3));\n",
              "      fill: #FFFFFF;\n",
              "    }\n",
              "  </style>\n",
              "\n",
              "    <script>\n",
              "      const buttonEl =\n",
              "        document.querySelector('#df-139b8c79-680e-4c49-b8cd-9a3cfde10777 button.colab-df-convert');\n",
              "      buttonEl.style.display =\n",
              "        google.colab.kernel.accessAllowed ? 'block' : 'none';\n",
              "\n",
              "      async function convertToInteractive(key) {\n",
              "        const element = document.querySelector('#df-139b8c79-680e-4c49-b8cd-9a3cfde10777');\n",
              "        const dataTable =\n",
              "          await google.colab.kernel.invokeFunction('convertToInteractive',\n",
              "                                                    [key], {});\n",
              "        if (!dataTable) return;\n",
              "\n",
              "        const docLinkHtml = 'Like what you see? Visit the ' +\n",
              "          '<a target=\"_blank\" href=https://colab.research.google.com/notebooks/data_table.ipynb>data table notebook</a>'\n",
              "          + ' to learn more about interactive tables.';\n",
              "        element.innerHTML = '';\n",
              "        dataTable['output_type'] = 'display_data';\n",
              "        await google.colab.output.renderOutput(dataTable, element);\n",
              "        const docLink = document.createElement('div');\n",
              "        docLink.innerHTML = docLinkHtml;\n",
              "        element.appendChild(docLink);\n",
              "      }\n",
              "    </script>\n",
              "  </div>\n",
              "\n",
              "\n",
              "    <div id=\"df-dee9c453-7750-447c-a206-4f31974cfd89\">\n",
              "      <button class=\"colab-df-quickchart\" onclick=\"quickchart('df-dee9c453-7750-447c-a206-4f31974cfd89')\"\n",
              "                title=\"Suggest charts\"\n",
              "                style=\"display:none;\">\n",
              "\n",
              "<svg xmlns=\"http://www.w3.org/2000/svg\" height=\"24px\"viewBox=\"0 0 24 24\"\n",
              "     width=\"24px\">\n",
              "    <g>\n",
              "        <path d=\"M19 3H5c-1.1 0-2 .9-2 2v14c0 1.1.9 2 2 2h14c1.1 0 2-.9 2-2V5c0-1.1-.9-2-2-2zM9 17H7v-7h2v7zm4 0h-2V7h2v10zm4 0h-2v-4h2v4z\"/>\n",
              "    </g>\n",
              "</svg>\n",
              "      </button>\n",
              "\n",
              "<style>\n",
              "  .colab-df-quickchart {\n",
              "      --bg-color: #E8F0FE;\n",
              "      --fill-color: #1967D2;\n",
              "      --hover-bg-color: #E2EBFA;\n",
              "      --hover-fill-color: #174EA6;\n",
              "      --disabled-fill-color: #AAA;\n",
              "      --disabled-bg-color: #DDD;\n",
              "  }\n",
              "\n",
              "  [theme=dark] .colab-df-quickchart {\n",
              "      --bg-color: #3B4455;\n",
              "      --fill-color: #D2E3FC;\n",
              "      --hover-bg-color: #434B5C;\n",
              "      --hover-fill-color: #FFFFFF;\n",
              "      --disabled-bg-color: #3B4455;\n",
              "      --disabled-fill-color: #666;\n",
              "  }\n",
              "\n",
              "  .colab-df-quickchart {\n",
              "    background-color: var(--bg-color);\n",
              "    border: none;\n",
              "    border-radius: 50%;\n",
              "    cursor: pointer;\n",
              "    display: none;\n",
              "    fill: var(--fill-color);\n",
              "    height: 32px;\n",
              "    padding: 0;\n",
              "    width: 32px;\n",
              "  }\n",
              "\n",
              "  .colab-df-quickchart:hover {\n",
              "    background-color: var(--hover-bg-color);\n",
              "    box-shadow: 0 1px 2px rgba(60, 64, 67, 0.3), 0 1px 3px 1px rgba(60, 64, 67, 0.15);\n",
              "    fill: var(--button-hover-fill-color);\n",
              "  }\n",
              "\n",
              "  .colab-df-quickchart-complete:disabled,\n",
              "  .colab-df-quickchart-complete:disabled:hover {\n",
              "    background-color: var(--disabled-bg-color);\n",
              "    fill: var(--disabled-fill-color);\n",
              "    box-shadow: none;\n",
              "  }\n",
              "\n",
              "  .colab-df-spinner {\n",
              "    border: 2px solid var(--fill-color);\n",
              "    border-color: transparent;\n",
              "    border-bottom-color: var(--fill-color);\n",
              "    animation:\n",
              "      spin 1s steps(1) infinite;\n",
              "  }\n",
              "\n",
              "  @keyframes spin {\n",
              "    0% {\n",
              "      border-color: transparent;\n",
              "      border-bottom-color: var(--fill-color);\n",
              "      border-left-color: var(--fill-color);\n",
              "    }\n",
              "    20% {\n",
              "      border-color: transparent;\n",
              "      border-left-color: var(--fill-color);\n",
              "      border-top-color: var(--fill-color);\n",
              "    }\n",
              "    30% {\n",
              "      border-color: transparent;\n",
              "      border-left-color: var(--fill-color);\n",
              "      border-top-color: var(--fill-color);\n",
              "      border-right-color: var(--fill-color);\n",
              "    }\n",
              "    40% {\n",
              "      border-color: transparent;\n",
              "      border-right-color: var(--fill-color);\n",
              "      border-top-color: var(--fill-color);\n",
              "    }\n",
              "    60% {\n",
              "      border-color: transparent;\n",
              "      border-right-color: var(--fill-color);\n",
              "    }\n",
              "    80% {\n",
              "      border-color: transparent;\n",
              "      border-right-color: var(--fill-color);\n",
              "      border-bottom-color: var(--fill-color);\n",
              "    }\n",
              "    90% {\n",
              "      border-color: transparent;\n",
              "      border-bottom-color: var(--fill-color);\n",
              "    }\n",
              "  }\n",
              "</style>\n",
              "\n",
              "      <script>\n",
              "        async function quickchart(key) {\n",
              "          const quickchartButtonEl =\n",
              "            document.querySelector('#' + key + ' button');\n",
              "          quickchartButtonEl.disabled = true;  // To prevent multiple clicks.\n",
              "          quickchartButtonEl.classList.add('colab-df-spinner');\n",
              "          try {\n",
              "            const charts = await google.colab.kernel.invokeFunction(\n",
              "                'suggestCharts', [key], {});\n",
              "          } catch (error) {\n",
              "            console.error('Error during call to suggestCharts:', error);\n",
              "          }\n",
              "          quickchartButtonEl.classList.remove('colab-df-spinner');\n",
              "          quickchartButtonEl.classList.add('colab-df-quickchart-complete');\n",
              "        }\n",
              "        (() => {\n",
              "          let quickchartButtonEl =\n",
              "            document.querySelector('#df-dee9c453-7750-447c-a206-4f31974cfd89 button');\n",
              "          quickchartButtonEl.style.display =\n",
              "            google.colab.kernel.accessAllowed ? 'block' : 'none';\n",
              "        })();\n",
              "      </script>\n",
              "    </div>\n",
              "\n",
              "    </div>\n",
              "  </div>\n"
            ],
            "application/vnd.google.colaboratory.intrinsic+json": {
              "type": "dataframe",
              "summary": "{\n  \"name\": \"             index=pd\",\n  \"rows\": 6,\n  \"fields\": [\n    {\n      \"column\": \"dice\",\n      \"properties\": {\n        \"dtype\": \"number\",\n        \"std\": 1,\n        \"min\": 1,\n        \"max\": 6,\n        \"num_unique_values\": 6,\n        \"samples\": [\n          1,\n          2,\n          6\n        ],\n        \"semantic_type\": \"\",\n        \"description\": \"\"\n      }\n    },\n    {\n      \"column\": \"frequency\",\n      \"properties\": {\n        \"dtype\": \"number\",\n        \"std\": 11,\n        \"min\": 4,\n        \"max\": 34,\n        \"num_unique_values\": 6,\n        \"samples\": [\n          4,\n          6,\n          34\n        ],\n        \"semantic_type\": \"\",\n        \"description\": \"\"\n      }\n    },\n    {\n      \"column\": \"relative frequency\",\n      \"properties\": {\n        \"dtype\": \"number\",\n        \"std\": 0.11860297916438131,\n        \"min\": 0.04,\n        \"max\": 0.34,\n        \"num_unique_values\": 6,\n        \"samples\": [\n          0.04,\n          0.06,\n          0.34\n        ],\n        \"semantic_type\": \"\",\n        \"description\": \"\"\n      }\n    }\n  ]\n}"
            }
          },
          "metadata": {},
          "execution_count": 50
        }
      ]
    },
    {
      "cell_type": "code",
      "source": [
        "fig=plt.figure(figsize=(10,6))\n",
        "ax=fig.add_subplot(111)\n",
        "ax.hist(sample,bins=6,range=(1,7),density=True,rwidth=0.8)\n",
        "ax.hlines(prob,np.arange(1,7),np.arange(2,8),colors='gray')\n",
        "ax.set_xticks(np.linspace(1.5,6.5,6))\n",
        "ax.set_xticklabels(np.arange(1,7))\n",
        "ax.set_ylabel('relative frequency')\n",
        "plt.show()"
      ],
      "metadata": {
        "colab": {
          "base_uri": "https://localhost:8080/",
          "height": 522
        },
        "id": "OaO-rIPFYa4E",
        "outputId": "a7778a1e-07bb-4041-c929-d61a0ad495e9"
      },
      "execution_count": 51,
      "outputs": [
        {
          "output_type": "display_data",
          "data": {
            "text/plain": [
              "<Figure size 1000x600 with 1 Axes>"
            ],
            "image/png": "[encoded data removed]"
          },
          "metadata": {}
        }
      ]
    },
    {
      "cell_type": "code",
      "source": [
        "num_trial=10000\n",
        "sample=np.random.choice(dice,size=num_trial,p=prob)\n",
        "fig=plt.figure(figsize=(10,6))\n",
        "ax=fig.add_subplot(111)\n",
        "ax.hist(sample,bins=6,range=(1,7),density=True,rwidth=0.8)\n",
        "ax.hlines(prob,np.arange(1,7),np.arange(2,8),colors='gray')\n",
        "ax.set_xticks(np.linspace(1.5,6.5,6))\n",
        "ax.set_xticklabels(np.arange(1,7))\n",
        "ax.set_ylabel('relative frequency')\n",
        "plt.show()"
      ],
      "metadata": {
        "colab": {
          "base_uri": "https://localhost:8080/",
          "height": 528
        },
        "id": "Jj6jMcUZZXfW",
        "outputId": "f7120347-f09a-4a04-947e-073bb4f4e4bc"
      },
      "execution_count": 52,
      "outputs": [
        {
          "output_type": "display_data",
          "data": {
            "text/plain": [
              "<Figure size 1000x600 with 1 Axes>"
            ],
            "image/png": "[encoded data removed]"
          },
          "metadata": {}
        }
      ]
    },
    {
      "cell_type": "code",
      "source": [
        "fig=plt.figure(figsize=(10,6))\n",
        "ax=fig.add_subplot(111)\n",
        "ax.hist(scores,bins=100,range=(0,100),density=True,color='green')\n",
        "ax.set_xlim(20,100)\n",
        "ax.set_ylim(0,0.042)\n",
        "ax.set_xlabel(\"score\")\n",
        "ax.set_ylabel(\"relative frequency\")\n",
        "plt.show()"
      ],
      "metadata": {
        "colab": {
          "base_uri": "https://localhost:8080/",
          "height": 542
        },
        "id": "x2R30L4fbSCp",
        "outputId": "9e785bb1-ab6d-49ea-9ddc-dfef9f0376c8"
      },
      "execution_count": 55,
      "outputs": [
        {
          "output_type": "display_data",
          "data": {
            "text/plain": [
              "<Figure size 1000x600 with 1 Axes>"
            ],
            "image/png": "[encoded data removed]"
          },
          "metadata": {}
        }
      ]
    },
    {
      "cell_type": "code",
      "source": [
        "print(np.random.choice(scores))"
      ],
      "metadata": {
        "colab": {
          "base_uri": "https://localhost:8080/"
        },
        "id": "0jyQRlnIb5us",
        "outputId": "e7f670e0-a4ff-42e5-c7ff-3e2f29ab6912"
      },
      "execution_count": 58,
      "outputs": [
        {
          "output_type": "stream",
          "name": "stdout",
          "text": [
            "76\n"
          ]
        }
      ]
    },
    {
      "cell_type": "code",
      "source": [
        "sample=np.random.choice(scores,10000)\n",
        "fig=plt.figure(figsize=(10,6))\n",
        "ax=fig.add_subplot(111)\n",
        "ax.hist(sample,bins=100,range=(0,100),density=True)\n",
        "ax.set_xlim(20,100)\n",
        "ax.set_ylim(0,0.042)\n",
        "ax.set_xlabel(\"score\")\n",
        "ax.set_ylabel(\"relative frequency\")\n",
        "plt.show()"
      ],
      "metadata": {
        "colab": {
          "base_uri": "https://localhost:8080/",
          "height": 542
        },
        "id": "ZYJaHb36c6nK",
        "outputId": "15edeb3d-b155-4c06-cd9e-0a181bcf87ff"
      },
      "execution_count": 59,
      "outputs": [
        {
          "output_type": "display_data",
          "data": {
            "text/plain": [
              "<Figure size 1000x600 with 1 Axes>"
            ],
            "image/png": "[encoded data removed]"
          },
          "metadata": {}
        }
      ]
    },
    {
      "cell_type": "code",
      "source": [
        "sample_means=[np.random.choice(scores,20).mean() for _ in range(10000)]\n",
        "\n",
        "fig=plt.figure(figsize=(10,6))\n",
        "ax=fig.add_subplot(111)\n",
        "ax.hist(sample_means,bins=100,range=(0,100),density=True)\n",
        "ax.vlines(np.mean(scores),0,1,'gray')\n",
        "ax.set_xlim(50,90)\n",
        "ax.set_ylim(0,0.13)\n",
        "ax.set_xlabel(\"score\")\n",
        "ax.set_ylabel(\"relative frequency\")\n",
        "plt.show()"
      ],
      "metadata": {
        "colab": {
          "base_uri": "https://localhost:8080/",
          "height": 542
        },
        "id": "sGPWB2GLe1JA",
        "outputId": "b5ad51c7-860c-428e-b43b-b55d07ab581c"
      },
      "execution_count": 60,
      "outputs": [
        {
          "output_type": "display_data",
          "data": {
            "text/plain": [
              "<Figure size 1000x600 with 1 Axes>"
            ],
            "image/png": "[encoded data removed]"
          },
          "metadata": {}
        }
      ]
    }
  ]
}