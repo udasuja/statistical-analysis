{
  "nbformat": 4,
  "nbformat_minor": 0,
  "metadata": {
    "colab": {
      "provenance": []
    },
    "kernelspec": {
      "name": "python3",
      "display_name": "Python 3"
    },
    "language_info": {
      "name": "python"
    }
  },
  "cells": [
    {
      "cell_type": "code",
      "execution_count": 1,
      "metadata": {
        "colab": {
          "base_uri": "https://localhost:8080/"
        },
        "id": "-tXl-TbFNzq1",
        "outputId": "d4758840-2997-4498-f22a-f458738fd623"
      },
      "outputs": [
        {
          "output_type": "stream",
          "name": "stdout",
          "text": [
            "Archive:  source.zip\n",
            "  inflating: /content/python_stat_sample-master/.gitignore  \n",
            "   creating: /content/python_stat_sample-master/.ipynb_checkpoints/\n",
            "   creating: /content/python_stat_sample-master/animation/\n",
            "   creating: /content/python_stat_sample-master/animation/.ipynb_checkpoints/\n",
            "  inflating: /content/python_stat_sample-master/animation/.ipynb_checkpoints/chap02_anim-checkpoint.ipynb  \n",
            "   creating: /content/python_stat_sample-master/animation/__pycache__/\n",
            "  inflating: /content/python_stat_sample-master/animation/__pycache__/plot_util.cpython-37.pyc  \n",
            "  inflating: /content/python_stat_sample-master/animation/chap02_anim.ipynb  \n",
            "  inflating: /content/python_stat_sample-master/animation/chap03_anim.ipynb  \n",
            "  inflating: /content/python_stat_sample-master/animation/chap04_anim.ipynb  \n",
            "  inflating: /content/python_stat_sample-master/animation/chap06_anim.ipynb  \n",
            "  inflating: /content/python_stat_sample-master/animation/chap08_anim.ipynb  \n",
            "  inflating: /content/python_stat_sample-master/animation/chap09_anim.ipynb  \n",
            " extracting: /content/python_stat_sample-master/animation/None0000000.png  \n",
            "  inflating: /content/python_stat_sample-master/animation/plot_util.py  \n",
            "   creating: /content/python_stat_sample-master/data/\n",
            "   creating: /content/python_stat_sample-master/data/.ipynb_checkpoints/\n",
            "  inflating: /content/python_stat_sample-master/data/.ipynb_checkpoints/Untitled-checkpoint.ipynb  \n",
            "  inflating: /content/python_stat_sample-master/data/ch1_sport_test.csv  \n",
            "  inflating: /content/python_stat_sample-master/data/ch10_access.csv  \n",
            "  inflating: /content/python_stat_sample-master/data/ch10_enquete.csv  \n",
            "  inflating: /content/python_stat_sample-master/data/ch11_ad.csv  \n",
            "  inflating: /content/python_stat_sample-master/data/ch11_potato.csv  \n",
            "  inflating: /content/python_stat_sample-master/data/ch11_training_ind.csv  \n",
            "  inflating: /content/python_stat_sample-master/data/ch11_training_rel.csv  \n",
            "  inflating: /content/python_stat_sample-master/data/ch12_scores_reg.csv  \n",
            "  inflating: /content/python_stat_sample-master/data/ch2_scores_em.csv  \n",
            "  inflating: /content/python_stat_sample-master/data/ch3_anscombe.npy  \n",
            "  inflating: /content/python_stat_sample-master/data/ch4_scores400.csv  \n",
            "  inflating: /content/python_stat_sample-master/data/Untitled.ipynb  \n",
            "  inflating: /content/python_stat_sample-master/LICENSE  \n",
            "   creating: /content/python_stat_sample-master/notebook/\n",
            "   creating: /content/python_stat_sample-master/notebook/.ipynb_checkpoints/\n",
            "  inflating: /content/python_stat_sample-master/notebook/.ipynb_checkpoints/chap01-checkpoint.ipynb  \n",
            "  inflating: /content/python_stat_sample-master/notebook/chap01.ipynb  \n",
            "  inflating: /content/python_stat_sample-master/notebook/chap02.ipynb  \n",
            "  inflating: /content/python_stat_sample-master/notebook/chap03.ipynb  \n",
            "  inflating: /content/python_stat_sample-master/notebook/chap04.ipynb  \n",
            "  inflating: /content/python_stat_sample-master/notebook/chap05.ipynb  \n",
            "  inflating: /content/python_stat_sample-master/notebook/chap06.ipynb  \n",
            "  inflating: /content/python_stat_sample-master/notebook/chap07.ipynb  \n",
            "  inflating: /content/python_stat_sample-master/notebook/chap08.ipynb  \n",
            "  inflating: /content/python_stat_sample-master/notebook/chap09.ipynb  \n",
            "  inflating: /content/python_stat_sample-master/notebook/chap10.ipynb  \n",
            "  inflating: /content/python_stat_sample-master/notebook/chap11.ipynb  \n",
            "  inflating: /content/python_stat_sample-master/notebook/chap12.ipynb  \n",
            "  inflating: /content/python_stat_sample-master/README.md  \n",
            "  inflating: /content/python_stat_sample-master/samplecode.png  \n",
            "   creating: /content/python_stat_sample-master/tutorial/\n",
            "   creating: /content/python_stat_sample-master/tutorial/env_const/\n",
            "   creating: /content/python_stat_sample-master/tutorial/env_const/images/\n",
            "  inflating: /content/python_stat_sample-master/tutorial/env_const/images/notebook1.png  \n",
            "  inflating: /content/python_stat_sample-master/tutorial/env_const/images/notebook2.png  \n",
            "  inflating: /content/python_stat_sample-master/tutorial/env_const/images/notebook3.png  \n",
            "  inflating: /content/python_stat_sample-master/tutorial/env_const/macos.md  \n",
            "  inflating: /content/python_stat_sample-master/tutorial/env_const/ubuntu16.md  \n",
            "  inflating: /content/python_stat_sample-master/tutorial/env_const/windows10.md  \n",
            "  inflating: /content/python_stat_sample-master/tutorial/numpy.ipynb  \n",
            "  inflating: /content/python_stat_sample-master/tutorial/pandas.ipynb  \n",
            "  inflating: /content/python_stat_sample-master/tutorial/python.ipynb  \n",
            "  inflating: /content/python_stat_sample-master/tutorial/test.npy  \n",
            "  inflating: /content/python_stat_sample-master/─┌╛╦╕°└╗ └з╟╤ ╡╡┐Є╕╗.pdf  \n"
          ]
        }
      ],
      "source": [
        "!unzip \"source.zip\" -d \"/content\""
      ]
    },
    {
      "cell_type": "code",
      "source": [
        "import numpy as np\n",
        "import matplotlib.pyplot as plt\n",
        "\n",
        "%precision 3\n",
        "%matplotlib inline"
      ],
      "metadata": {
        "id": "wvtha6_bZKFO"
      },
      "execution_count": 2,
      "outputs": []
    },
    {
      "cell_type": "code",
      "source": [
        "from scipy import integrate\n",
        "import warnings\n",
        "\n",
        "warnings.filterwarnings(\"ignore\",category=integrate.IntegrationWarning)"
      ],
      "metadata": {
        "id": "6SveB5akZRuK"
      },
      "execution_count": 3,
      "outputs": []
    },
    {
      "cell_type": "code",
      "source": [
        "x_range=np.array([0,1])\n"
      ],
      "metadata": {
        "id": "JbrU6yh6Zfbp"
      },
      "execution_count": 4,
      "outputs": []
    },
    {
      "cell_type": "code",
      "source": [
        "def f(x):\n",
        "  if x_range[0] <= x <= x_range[1]:\n",
        "    return 2*x\n",
        "  else:\n",
        "    return 0"
      ],
      "metadata": {
        "id": "wUplHdZnkutx"
      },
      "execution_count": 5,
      "outputs": []
    },
    {
      "cell_type": "code",
      "source": [
        "X=[x_range,f]"
      ],
      "metadata": {
        "id": "PjJ2sbHdk6I1"
      },
      "execution_count": 6,
      "outputs": []
    },
    {
      "cell_type": "code",
      "source": [
        "xs=np.linspace(x_range[0],x_range[1],100)\n",
        "\n",
        "fig=plt.figure(figsize=(10,6))\n",
        "ax=fig.add_subplot(111)\n",
        "\n",
        "ax.plot(xs,[f(x) for x in xs], label='f(x)',color=\"gray\")\n",
        "ax.hlines(0,-0.2,1.2,alpha=0.3)\n",
        "ax.vlines(0,-0.2,2.2,alpha=0.3)\n",
        "ax.vlines(xs.max(),0,2.2,linestyles=\":\",color=\"gray\")\n",
        "\n",
        "xs=np.linspace(0.4,0.6,100)\n",
        "ax.fill_between(xs,[f(x) for x in xs], label=\"prob\")\n",
        "\n",
        "ax.set_xticks(np.arange(-0.2,1.3,0.1))\n",
        "ax.set_xlim(-0.1,1.1)\n",
        "ax.set_ylim(-0.2,2.1)\n",
        "ax.legend()\n",
        "\n",
        "plt.show()"
      ],
      "metadata": {
        "colab": {
          "base_uri": "https://localhost:8080/",
          "height": 522
        },
        "id": "VRMactdGlI-J",
        "outputId": "df32e276-9be7-481d-b8ce-963442172784"
      },
      "execution_count": 7,
      "outputs": [
        {
          "output_type": "display_data",
          "data": {
            "text/plain": [
              "<Figure size 1000x600 with 1 Axes>"
            ],
            "image/png": "[encoded data removed]"
          },
          "metadata": {}
        }
      ]
    },
    {
      "cell_type": "code",
      "source": [
        "integrate.quad(f,0.4,0.6)\n"
      ],
      "metadata": {
        "colab": {
          "base_uri": "https://localhost:8080/"
        },
        "id": "jc3QgwBRl7J7",
        "outputId": "7cc539f5-390b-4488-9644-574c2272d9ec"
      },
      "execution_count": 8,
      "outputs": [
        {
          "output_type": "execute_result",
          "data": {
            "text/plain": [
              "(0.200, 0.000)"
            ]
          },
          "metadata": {},
          "execution_count": 8
        }
      ]
    },
    {
      "cell_type": "code",
      "source": [
        "from scipy.optimize import minimize_scalar\n",
        "\n",
        "res=minimize_scalar(f)\n",
        "print(res.fun)"
      ],
      "metadata": {
        "colab": {
          "base_uri": "https://localhost:8080/"
        },
        "id": "WwqauQPFmIvC",
        "outputId": "06a3c3ee-64ab-4203-88be-15aa24885b23"
      },
      "execution_count": 9,
      "outputs": [
        {
          "output_type": "stream",
          "name": "stdout",
          "text": [
            "0\n"
          ]
        }
      ]
    },
    {
      "cell_type": "code",
      "source": [
        "integrate.quad(f,-np.inf,np.inf)[0]\n"
      ],
      "metadata": {
        "colab": {
          "base_uri": "https://localhost:8080/"
        },
        "id": "nRREo_VmmdNO",
        "outputId": "f8b7bbba-3f19-44ef-c1c7-c59ec9eeccdc"
      },
      "execution_count": 10,
      "outputs": [
        {
          "output_type": "execute_result",
          "data": {
            "text/plain": [
              "1.000"
            ]
          },
          "metadata": {},
          "execution_count": 10
        }
      ]
    },
    {
      "cell_type": "code",
      "source": [
        "def F(x):\n",
        "  return integrate.quad(f,-np.inf,x)[0]"
      ],
      "metadata": {
        "id": "xc9w3iZLmvu9"
      },
      "execution_count": 11,
      "outputs": []
    },
    {
      "cell_type": "code",
      "source": [
        "F(0.6)-F(0.4)"
      ],
      "metadata": {
        "colab": {
          "base_uri": "https://localhost:8080/"
        },
        "id": "8sfRFIyom6G8",
        "outputId": "4b9fdb07-a575-4de2-bc3c-f73462a6f4a3"
      },
      "execution_count": 12,
      "outputs": [
        {
          "output_type": "execute_result",
          "data": {
            "text/plain": [
              "0.200"
            ]
          },
          "metadata": {},
          "execution_count": 12
        }
      ]
    },
    {
      "cell_type": "code",
      "source": [
        "xs=np.linspace(x_range[0],x_range[1],100)\n",
        "\n",
        "fig=plt.figure(figsize=(10,6))\n",
        "ax=fig.add_subplot(111)\n",
        "\n",
        "ax.plot(xs, [F(x) for x in xs], label=\"F(x)\",color=\"gray\")\n",
        "ax.hlines(0,-0.1,1.1,alpha=0.3)\n",
        "ax.vlines(0,-0.1,1.1,alpha=0.3)\n",
        "ax.vlines(xs.max(),0,1,linestyles=\":\",color=\"gray\")\n",
        "\n",
        "ax.set_xticks(np.arange(-0.1,1.2,0.1))\n",
        "ax.set_xlim(-0.1,1.1)\n",
        "ax.set_ylim(-0.1,1.1)\n",
        "ax.legend()\n",
        "\n",
        "plt.show()"
      ],
      "metadata": {
        "colab": {
          "base_uri": "https://localhost:8080/",
          "height": 522
        },
        "id": "LhFoYvChm_Ta",
        "outputId": "bb063236-1d48-441c-9f59-e47305d8a105"
      },
      "execution_count": 14,
      "outputs": [
        {
          "output_type": "display_data",
          "data": {
            "text/plain": [
              "<Figure size 1000x600 with 1 Axes>"
            ],
            "image/png": "[encoded data removed]"
          },
          "metadata": {}
        }
      ]
    },
    {
      "cell_type": "code",
      "source": [
        "y_range=[3,5]\n",
        "\n",
        "def g(y):\n",
        "  if y_range[0] <=y<=y_range[1]:\n",
        "    return (y-3)/2\n",
        "  else:\n",
        "    return 0\n",
        "\n",
        "def G(y):\n",
        "  return integrate.quad(g,-np.inf,y)[0]"
      ],
      "metadata": {
        "id": "y_dMn6mXgKaX"
      },
      "execution_count": 15,
      "outputs": []
    },
    {
      "cell_type": "code",
      "source": [
        "ys=np.linspace(y_range[0],y_range[1],100)\n",
        "\n",
        "fig=plt.figure(figsize=(10,6))\n",
        "ax=fig.add_subplot(111)\n",
        "\n",
        "ax.plot(ys,[g(y) for y in ys], label=\"g(y)\", color=\"gray\")\n",
        "ax.plot(ys, [G(y) for y in ys], label=\"G(y)\", ls=\"--\",color=\"gray\")\n",
        "ax.hlines(0,2.8,5.2,alpha=0.3)\n",
        "ax.vlines(ys.max(),0,1,linestyles=\":\",color=\"gray\")\n",
        "\n",
        "ax.set_xticks(np.arange(2.8,5.2,0.2))\n",
        "ax.set_xlim(2.8,5.2)\n",
        "ax.set_ylim(-0.1,1.1)\n",
        "ax.legend()\n",
        "\n",
        "plt.show()"
      ],
      "metadata": {
        "colab": {
          "base_uri": "https://localhost:8080/",
          "height": 522
        },
        "id": "-O2mNpJNgYsp",
        "outputId": "e1de98e3-1e38-4236-94f9-a4f5ce41e543"
      },
      "execution_count": 17,
      "outputs": [
        {
          "output_type": "display_data",
          "data": {
            "text/plain": [
              "<Figure size 1000x600 with 1 Axes>"
            ],
            "image/png": "[encoded data removed]"
          },
          "metadata": {}
        }
      ]
    },
    {
      "cell_type": "code",
      "source": [
        "def integrand(x):\n",
        "  return x * f(x)\n",
        "\n",
        "integrate.quad(integrand,-np.inf,np.inf)[0]"
      ],
      "metadata": {
        "colab": {
          "base_uri": "https://localhost:8080/"
        },
        "id": "EQzQ6WEqhS1K",
        "outputId": "fc35ff31-bbdd-4795-bfa5-40c0e832d402"
      },
      "execution_count": 18,
      "outputs": [
        {
          "output_type": "execute_result",
          "data": {
            "text/plain": [
              "0.667"
            ]
          },
          "metadata": {},
          "execution_count": 18
        }
      ]
    },
    {
      "cell_type": "code",
      "source": [
        "def E(X, g=lambda x:x):\n",
        "  x_range, f=X\n",
        "  def integrand(x):\n",
        "    return g(x) *f(x)\n",
        "  return integrate.quad(integrand,-np.inf,np.inf)[0]"
      ],
      "metadata": {
        "id": "DoCARQQWi_4U"
      },
      "execution_count": 19,
      "outputs": []
    },
    {
      "cell_type": "code",
      "source": [
        "E(X)"
      ],
      "metadata": {
        "colab": {
          "base_uri": "https://localhost:8080/"
        },
        "id": "_0xn0hMbjecw",
        "outputId": "528c5cb7-6078-4b00-c5cc-afdebfa182e5"
      },
      "execution_count": 20,
      "outputs": [
        {
          "output_type": "execute_result",
          "data": {
            "text/plain": [
              "0.667"
            ]
          },
          "metadata": {},
          "execution_count": 20
        }
      ]
    },
    {
      "cell_type": "code",
      "source": [
        "E(X, g=lambda x:2*x+3)\n"
      ],
      "metadata": {
        "colab": {
          "base_uri": "https://localhost:8080/"
        },
        "id": "huE9ZUuDjhTf",
        "outputId": "736872e3-fa5c-42d4-d28c-02c6611a4348"
      },
      "execution_count": 22,
      "outputs": [
        {
          "output_type": "execute_result",
          "data": {
            "text/plain": [
              "4.333"
            ]
          },
          "metadata": {},
          "execution_count": 22
        }
      ]
    },
    {
      "cell_type": "code",
      "source": [
        "2*E(X)+3"
      ],
      "metadata": {
        "colab": {
          "base_uri": "https://localhost:8080/"
        },
        "id": "JljMf5kcjqu1",
        "outputId": "cc5b60a9-db5e-41a9-828d-1874ed3e6ba9"
      },
      "execution_count": 23,
      "outputs": [
        {
          "output_type": "execute_result",
          "data": {
            "text/plain": [
              "4.333"
            ]
          },
          "metadata": {},
          "execution_count": 23
        }
      ]
    },
    {
      "cell_type": "code",
      "source": [
        "mean=E(X)\n",
        "def integrand(x):\n",
        "  return (x-mean)**2*f(x)\n",
        "\n",
        "integrate.quad(integrand,-np.inf,np.inf)[0]"
      ],
      "metadata": {
        "colab": {
          "base_uri": "https://localhost:8080/"
        },
        "id": "WX5HXjbMkUjq",
        "outputId": "cb7c8ee1-965f-4406-cff9-e1bfae991450"
      },
      "execution_count": 28,
      "outputs": [
        {
          "output_type": "execute_result",
          "data": {
            "text/plain": [
              "0.056"
            ]
          },
          "metadata": {},
          "execution_count": 28
        }
      ]
    },
    {
      "cell_type": "code",
      "source": [
        "def V(X, g=lambda x:x):\n",
        "  x_range, f=X\n",
        "  mean=E(X,g)\n",
        "  def integrand(x):\n",
        "    return (g(x)-mean)**2*f(x)\n",
        "  return integrate.quad(integrand,-np.inf,np.inf)[0]"
      ],
      "metadata": {
        "id": "bnUWE5Sskp14"
      },
      "execution_count": 31,
      "outputs": []
    },
    {
      "cell_type": "code",
      "source": [
        "V(X)"
      ],
      "metadata": {
        "colab": {
          "base_uri": "https://localhost:8080/"
        },
        "id": "0UhJWXjmlBBI",
        "outputId": "1d86e465-f89d-49cf-f645-71563bf94059"
      },
      "execution_count": 32,
      "outputs": [
        {
          "output_type": "execute_result",
          "data": {
            "text/plain": [
              "0.056"
            ]
          },
          "metadata": {},
          "execution_count": 32
        }
      ]
    },
    {
      "cell_type": "code",
      "source": [
        "V(X,lambda x:2*x+3)"
      ],
      "metadata": {
        "colab": {
          "base_uri": "https://localhost:8080/"
        },
        "id": "ZVUq1vEtlJuJ",
        "outputId": "5b1de43f-5663-40d7-eb84-794feecdee29"
      },
      "execution_count": 33,
      "outputs": [
        {
          "output_type": "execute_result",
          "data": {
            "text/plain": [
              "0.222"
            ]
          },
          "metadata": {},
          "execution_count": 33
        }
      ]
    },
    {
      "cell_type": "code",
      "source": [
        "2**2*V(X)"
      ],
      "metadata": {
        "colab": {
          "base_uri": "https://localhost:8080/"
        },
        "id": "lLBsoae_lOCH",
        "outputId": "516e8521-fea8-49e3-ccce-df40f54db06d"
      },
      "execution_count": 35,
      "outputs": [
        {
          "output_type": "execute_result",
          "data": {
            "text/plain": [
              "0.222"
            ]
          },
          "metadata": {},
          "execution_count": 35
        }
      ]
    },
    {
      "cell_type": "code",
      "source": [
        "x_range=[0,2]\n",
        "y_range=[0,1]"
      ],
      "metadata": {
        "id": "zxDFMTYOloiC"
      },
      "execution_count": 36,
      "outputs": []
    },
    {
      "cell_type": "code",
      "source": [
        "def f_xy(x,y):\n",
        "  if 0<=y<=1 and 0<= x-y <=1:\n",
        "    return 4*y*(x-y)\n",
        "  else:\n",
        "    return 0\n",
        ""
      ],
      "metadata": {
        "id": "0fY8UvvJlsy2"
      },
      "execution_count": 37,
      "outputs": []
    },
    {
      "cell_type": "code",
      "source": [
        "XY=[x_range,y_range,f_xy]"
      ],
      "metadata": {
        "id": "-VqsjSE5l2T6"
      },
      "execution_count": 38,
      "outputs": []
    },
    {
      "cell_type": "code",
      "source": [
        "xs=np.linspace(x_range[0],x_range[1],200)\n",
        "ys=np.linspace(y_range[0],y_range[1],200)\n",
        "pd=np.array([[f_xy(x,y) for y in ys] for x in xs])\n",
        "\n",
        "fig=plt.figure(figsize=(10,8))\n",
        "ax=fig.add_subplot(111)\n",
        "\n",
        "c=ax.pcolor(pd)\n",
        "ax.set_xticks(np.linspace(0,200,3),minor=False)\n",
        "ax.set_yticks(np.linspace(0,200,3),minor=False)\n",
        "ax.set_xticklabels(np.linspace(0,2,3))\n",
        "ax.set_yticklabels(np.linspace(0,1,3))\n",
        "ax.invert_yaxis()\n",
        "ax.xaxis.tick_top()\n",
        "fig.colorbar(c,ax=ax)\n",
        "plt.show()"
      ],
      "metadata": {
        "colab": {
          "base_uri": "https://localhost:8080/",
          "height": 685
        },
        "id": "cibyLtf6l6NV",
        "outputId": "d1412b4b-cf09-4296-b3f5-32dbe917fd15"
      },
      "execution_count": 44,
      "outputs": [
        {
          "output_type": "display_data",
          "data": {
            "text/plain": [
              "<Figure size 1000x800 with 2 Axes>"
            ],
            "image/png": "[encoded data removed]"
          },
          "metadata": {}
        }
      ]
    },
    {
      "cell_type": "code",
      "source": [
        "integrate.nquad(f_xy,[[-np.inf,np.inf],[-np.inf,np.inf]])[0]"
      ],
      "metadata": {
        "colab": {
          "base_uri": "https://localhost:8080/"
        },
        "id": "EqkwAp1um1MI",
        "outputId": "4f60a1ae-0dea-424f-f307-5ae50f5d1cf1"
      },
      "execution_count": 45,
      "outputs": [
        {
          "output_type": "execute_result",
          "data": {
            "text/plain": [
              "1.000"
            ]
          },
          "metadata": {},
          "execution_count": 45
        }
      ]
    },
    {
      "cell_type": "code",
      "source": [
        "from functools import partial\n",
        "\n",
        "def f_X(x):\n",
        "  return integrate.quad(partial(f_xy,x),-np.inf,np.inf)[0]\n",
        "def f_Y(y):\n",
        "  return integrate.quad(partial(f_xy,y=y),-np.inf,np.inf)[0]"
      ],
      "metadata": {
        "id": "YTzdAeuDnO9a"
      },
      "execution_count": 46,
      "outputs": []
    },
    {
      "cell_type": "code",
      "source": [
        "X=[x_range,f_X]\n",
        "y=[y_range,f_Y]"
      ],
      "metadata": {
        "id": "aKEGOt5MneiJ"
      },
      "execution_count": 47,
      "outputs": []
    },
    {
      "cell_type": "code",
      "source": [
        "xs=np.linspace(*x_range,100)\n",
        "ys=np.linspace(*y_range,100)\n",
        "\n",
        "fig=plt.figure(figsize=(12,4))\n",
        "ax1=fig.add_subplot(121)\n",
        "ax2=fig.add_subplot(122)\n",
        "ax1.plot(xs,[f_X(x) for x in xs],color=\"gray\")\n",
        "ax2.plot(ys, [f_Y(y) for y in ys],color=\"gray\")\n",
        "ax1.set_title(\"X_marginal density function\")\n",
        "ax2.set_title(\"Y_marginal density function\")\n",
        "\n",
        "plt.show()"
      ],
      "metadata": {
        "colab": {
          "base_uri": "https://localhost:8080/",
          "height": 391
        },
        "id": "NMQI4qCznjgb",
        "outputId": "c19e5ad6-59af-4efb-8c3c-da7886bf99a5"
      },
      "execution_count": 48,
      "outputs": [
        {
          "output_type": "display_data",
          "data": {
            "text/plain": [
              "<Figure size 1200x400 with 2 Axes>"
            ],
            "image/png": "[encoded data removed]"
          },
          "metadata": {}
        }
      ]
    },
    {
      "cell_type": "code",
      "source": [
        "def integrand(x,y):\n",
        "  return x*f_xy(x,y)\n",
        "\n",
        "integrate.nquad(integrand,[[-np.inf,np.inf],[-np.inf,np.inf]])[0]"
      ],
      "metadata": {
        "colab": {
          "base_uri": "https://localhost:8080/"
        },
        "id": "W17wQvOOoJMU",
        "outputId": "90058557-43f1-44ad-b759-90ea21f548d2"
      },
      "execution_count": 49,
      "outputs": [
        {
          "output_type": "execute_result",
          "data": {
            "text/plain": [
              "1.333"
            ]
          },
          "metadata": {},
          "execution_count": 49
        }
      ]
    },
    {
      "cell_type": "code",
      "source": [
        "def E(XY,g):\n",
        "  x_range, y_range,f_xy=XY\n",
        "  def integrand(x,y):\n",
        "    return g(x,y) * f_xy(x,y)\n",
        "\n",
        "  return integrate.nquad(integrand,[[-np.inf,np.inf],[-np.inf,np.inf]])[0]"
      ],
      "metadata": {
        "id": "q_pbdIl1oWz2"
      },
      "execution_count": 50,
      "outputs": []
    },
    {
      "cell_type": "code",
      "source": [
        "mean_X=E(XY,lambda x,y:x)\n",
        "mean_X"
      ],
      "metadata": {
        "colab": {
          "base_uri": "https://localhost:8080/"
        },
        "id": "aDp-PGUxooqg",
        "outputId": "aacef1f5-d8ab-44cc-895f-643c59bdbcfc"
      },
      "execution_count": 51,
      "outputs": [
        {
          "output_type": "execute_result",
          "data": {
            "text/plain": [
              "1.333"
            ]
          },
          "metadata": {},
          "execution_count": 51
        }
      ]
    },
    {
      "cell_type": "code",
      "source": [
        "mean_Y=E(XY,lambda x,y:y)\n",
        "mean_Y"
      ],
      "metadata": {
        "colab": {
          "base_uri": "https://localhost:8080/"
        },
        "id": "JxpiO1RLotjr",
        "outputId": "8cc847ec-4f00-4511-d633-3f2f7b90eff8"
      },
      "execution_count": 52,
      "outputs": [
        {
          "output_type": "execute_result",
          "data": {
            "text/plain": [
              "0.667"
            ]
          },
          "metadata": {},
          "execution_count": 52
        }
      ]
    },
    {
      "cell_type": "code",
      "source": [
        "a,b=2,3"
      ],
      "metadata": {
        "id": "C3igdUano0fR"
      },
      "execution_count": 53,
      "outputs": []
    },
    {
      "cell_type": "code",
      "source": [
        "E(XY,lambda x,y:a*x+b*y)"
      ],
      "metadata": {
        "colab": {
          "base_uri": "https://localhost:8080/"
        },
        "id": "-XYey5huo3NM",
        "outputId": "738f39fb-958b-4069-b3df-9cf2b72f3c25"
      },
      "execution_count": 54,
      "outputs": [
        {
          "output_type": "execute_result",
          "data": {
            "text/plain": [
              "4.667"
            ]
          },
          "metadata": {},
          "execution_count": 54
        }
      ]
    },
    {
      "cell_type": "code",
      "source": [
        "a*mean_X+b*mean_Y"
      ],
      "metadata": {
        "colab": {
          "base_uri": "https://localhost:8080/"
        },
        "id": "9QlbvQTUo704",
        "outputId": "c1e65a30-699e-4b89-f625-75b0f73ea332"
      },
      "execution_count": 55,
      "outputs": [
        {
          "output_type": "execute_result",
          "data": {
            "text/plain": [
              "4.667"
            ]
          },
          "metadata": {},
          "execution_count": 55
        }
      ]
    },
    {
      "cell_type": "code",
      "source": [
        "def integrand(x,y):\n",
        "  return (x-mean_X)**2*f_xy(x,y)\n",
        "\n",
        "integrate.nquad(integrand,[[-np.inf,np.inf],[-np.inf,np.inf]])[0]"
      ],
      "metadata": {
        "colab": {
          "base_uri": "https://localhost:8080/"
        },
        "id": "APUWIPGJpCR8",
        "outputId": "fe524ca8-c5bb-472e-f6fe-f48835380635"
      },
      "execution_count": 57,
      "outputs": [
        {
          "output_type": "execute_result",
          "data": {
            "text/plain": [
              "0.111"
            ]
          },
          "metadata": {},
          "execution_count": 57
        }
      ]
    },
    {
      "cell_type": "code",
      "source": [
        "def V(XY,g):\n",
        "  x_range,y_range,f_xy=XY\n",
        "  mean=E(XY,g)\n",
        "  def integrand(x,y):\n",
        "    return (g(x,y)-mean)**2*f_xy(x,y)\n",
        "\n",
        "  return integrate.nquad(integrand,[[-np.inf,np.inf],[-np.inf,np.inf]])[0]"
      ],
      "metadata": {
        "id": "LvCDQ7nwqTDi"
      },
      "execution_count": 58,
      "outputs": []
    },
    {
      "cell_type": "code",
      "source": [
        "var_X=V(XY,lambda x,y:x)\n",
        "var_X"
      ],
      "metadata": {
        "colab": {
          "base_uri": "https://localhost:8080/"
        },
        "id": "wp7-DoQUqm60",
        "outputId": "a30dba9d-b108-4c3f-e22d-d5d746b62e3a"
      },
      "execution_count": 59,
      "outputs": [
        {
          "output_type": "execute_result",
          "data": {
            "text/plain": [
              "0.111"
            ]
          },
          "metadata": {},
          "execution_count": 59
        }
      ]
    },
    {
      "cell_type": "code",
      "source": [
        "var_Y=V(XY,lambda x,y:y)\n",
        "var_Y"
      ],
      "metadata": {
        "colab": {
          "base_uri": "https://localhost:8080/"
        },
        "id": "TvELkEi-qtBT",
        "outputId": "9e1c8292-8aeb-4bab-adae-7f10abe07059"
      },
      "execution_count": 60,
      "outputs": [
        {
          "output_type": "execute_result",
          "data": {
            "text/plain": [
              "0.056"
            ]
          },
          "metadata": {},
          "execution_count": 60
        }
      ]
    },
    {
      "cell_type": "code",
      "source": [
        "def Cov(XY):\n",
        "  x_range,y_range,f_xy=XY\n",
        "  mean_X=E(XY,lambda x,y:x)\n",
        "  mean_Y=E(XY,lambda x,y:y)\n",
        "  def integrand(x,y):\n",
        "    return (x-mean_X)*(y-mean_Y)*f_xy(x,y)\n",
        "  return integrate.nquad(integrand,[[-np.inf,np.inf],[-np.inf,np.inf]])[0]"
      ],
      "metadata": {
        "id": "O3FeTNC6q0QN"
      },
      "execution_count": 61,
      "outputs": []
    },
    {
      "cell_type": "code",
      "source": [
        "cov_xy=Cov(XY)\n",
        "cov_xy"
      ],
      "metadata": {
        "colab": {
          "base_uri": "https://localhost:8080/"
        },
        "id": "rbXZSV1XrM1N",
        "outputId": "156d6c74-cc73-4e04-a7bf-d7bb1720c14b"
      },
      "execution_count": 62,
      "outputs": [
        {
          "output_type": "execute_result",
          "data": {
            "text/plain": [
              "0.056"
            ]
          },
          "metadata": {},
          "execution_count": 62
        }
      ]
    },
    {
      "cell_type": "code",
      "source": [
        "V(XY,lambda x,y:a*x+b*y)"
      ],
      "metadata": {
        "colab": {
          "base_uri": "https://localhost:8080/"
        },
        "id": "EtDSNyzRrReh",
        "outputId": "d4e95401-9aa4-496e-f98a-44ffabe11824"
      },
      "execution_count": 63,
      "outputs": [
        {
          "output_type": "execute_result",
          "data": {
            "text/plain": [
              "1.611"
            ]
          },
          "metadata": {},
          "execution_count": 63
        }
      ]
    },
    {
      "cell_type": "code",
      "source": [
        "a**2*var_X+b**2*var_Y+2*a*b*cov_xy"
      ],
      "metadata": {
        "colab": {
          "base_uri": "https://localhost:8080/"
        },
        "id": "_M61qMcZri-4",
        "outputId": "b6a1348f-6e79-4ced-ab2b-7bbcaf4ea1b4"
      },
      "execution_count": 64,
      "outputs": [
        {
          "output_type": "execute_result",
          "data": {
            "text/plain": [
              "1.611"
            ]
          },
          "metadata": {},
          "execution_count": 64
        }
      ]
    },
    {
      "cell_type": "code",
      "source": [
        "print(\"{:.3f}\".format(cov_xy/np.sqrt(var_X*var_Y)))"
      ],
      "metadata": {
        "colab": {
          "base_uri": "https://localhost:8080/"
        },
        "id": "-CcNZHO8roct",
        "outputId": "fbe2b2eb-c276-4f35-8eb6-100a24de12e6"
      },
      "execution_count": 73,
      "outputs": [
        {
          "output_type": "stream",
          "name": "stdout",
          "text": [
            "0.707\n"
          ]
        }
      ]
    }
  ]
}